





<!DOCTYPE html>
<html lang="en" data-color-mode="auto" data-light-theme="light" data-dark-theme="dark"  data-a11y-animated-images="system">
  <head>
    <meta charset="utf-8">
  <link rel="dns-prefetch" href="https://github.githubassets.com">
  <link rel="dns-prefetch" href="https://avatars.githubusercontent.com">
  <link rel="dns-prefetch" href="https://github-cloud.s3.amazonaws.com">
  <link rel="dns-prefetch" href="https://user-images.githubusercontent.com/">
  <link rel="preconnect" href="https://github.githubassets.com" crossorigin>
  <link rel="preconnect" href="https://avatars.githubusercontent.com">

  


  <link crossorigin="anonymous" media="all" rel="stylesheet" href="https://github.githubassets.com/assets/light-8cafbcbd78f4.css" /><link crossorigin="anonymous" media="all" rel="stylesheet" href="https://github.githubassets.com/assets/dark-31dc14e38457.css" /><link data-color-theme="dark_dimmed" crossorigin="anonymous" media="all" rel="stylesheet" data-href="https://github.githubassets.com/assets/dark_dimmed-71414d661fe2.css" /><link data-color-theme="dark_high_contrast" crossorigin="anonymous" media="all" rel="stylesheet" data-href="https://github.githubassets.com/assets/dark_high_contrast-ba96c7f1d660.css" /><link data-color-theme="dark_colorblind" crossorigin="anonymous" media="all" rel="stylesheet" data-href="https://github.githubassets.com/assets/dark_colorblind-7471c22cdb6a.css" /><link data-color-theme="light_colorblind" crossorigin="anonymous" media="all" rel="stylesheet" data-href="https://github.githubassets.com/assets/light_colorblind-80180bed15ed.css" /><link data-color-theme="light_high_contrast" crossorigin="anonymous" media="all" rel="stylesheet" data-href="https://github.githubassets.com/assets/light_high_contrast-e89b9cdecb75.css" /><link data-color-theme="light_tritanopia" crossorigin="anonymous" media="all" rel="stylesheet" data-href="https://github.githubassets.com/assets/light_tritanopia-77f15e9154df.css" /><link data-color-theme="dark_tritanopia" crossorigin="anonymous" media="all" rel="stylesheet" data-href="https://github.githubassets.com/assets/dark_tritanopia-f598f8dd18ae.css" />
  
    <link crossorigin="anonymous" media="all" rel="stylesheet" href="https://github.githubassets.com/assets/primer-primitives-fb1d51d1ef66.css" />
    <link crossorigin="anonymous" media="all" rel="stylesheet" href="https://github.githubassets.com/assets/primer-7ae9df2db290.css" />
    <link crossorigin="anonymous" media="all" rel="stylesheet" href="https://github.githubassets.com/assets/global-ad456268a33a.css" />
    <link crossorigin="anonymous" media="all" rel="stylesheet" href="https://github.githubassets.com/assets/github-d534e5531df6.css" />
  <link crossorigin="anonymous" media="all" rel="stylesheet" href="https://github.githubassets.com/assets/code-80f7c80a0570.css" />

  

  <script type="application/json" id="client-env">{"locale":"en","featureFlags":["failbot_handle_non_errors","fix_react_title","geojson_azure_maps","image_metric_tracking","turbo_experiment_risky","use_scroll_restoration"]}</script>
<script crossorigin="anonymous" defer="defer" type="application/javascript" src="https://github.githubassets.com/assets/wp-runtime-6b43826663ff.js"></script>
<script crossorigin="anonymous" defer="defer" type="application/javascript" src="https://github.githubassets.com/assets/vendors-node_modules_dompurify_dist_purify_js-64d590970fa6.js"></script>
<script crossorigin="anonymous" defer="defer" type="application/javascript" src="https://github.githubassets.com/assets/vendors-node_modules_stacktrace-parser_dist_stack-trace-parser_esm_js-node_modules_github_bro-a4c183-ae93d3fba59c.js"></script>
<script crossorigin="anonymous" defer="defer" type="application/javascript" src="https://github.githubassets.com/assets/ui_packages_soft-nav_soft-nav_ts-db8b037dfa8f.js"></script>
<script crossorigin="anonymous" defer="defer" type="application/javascript" src="https://github.githubassets.com/assets/environment-c2140938ffde.js"></script>
<script crossorigin="anonymous" defer="defer" type="application/javascript" src="https://github.githubassets.com/assets/vendors-node_modules_github_selector-observer_dist_index_esm_js-2646a2c533e3.js"></script>
<script crossorigin="anonymous" defer="defer" type="application/javascript" src="https://github.githubassets.com/assets/vendors-node_modules_primer_behaviors_dist_esm_focus-zone_js-d55308df5023.js"></script>
<script crossorigin="anonymous" defer="defer" type="application/javascript" src="https://github.githubassets.com/assets/vendors-node_modules_github_relative-time-element_dist_index_js-99e288659d4f.js"></script>
<script crossorigin="anonymous" defer="defer" type="application/javascript" src="https://github.githubassets.com/assets/vendors-node_modules_fzy_js_index_js-node_modules_github_markdown-toolbar-element_dist_index_js-e3de700a4c9d.js"></script>
<script crossorigin="anonymous" defer="defer" type="application/javascript" src="https://github.githubassets.com/assets/vendors-node_modules_delegated-events_dist_index_js-node_modules_github_auto-complete-element-5b3870-9b38c0812424.js"></script>
<script crossorigin="anonymous" defer="defer" type="application/javascript" src="https://github.githubassets.com/assets/vendors-node_modules_github_file-attachment-element_dist_index_js-node_modules_github_text-ex-3415a8-7ecc10fb88d0.js"></script>
<script crossorigin="anonymous" defer="defer" type="application/javascript" src="https://github.githubassets.com/assets/vendors-node_modules_github_filter-input-element_dist_index_js-node_modules_github_remote-inp-8873b7-5771678648e0.js"></script>
<script crossorigin="anonymous" defer="defer" type="application/javascript" src="https://github.githubassets.com/assets/vendors-node_modules_primer_view-components_app_components_primer_primer_js-node_modules_gith-e7a1e2-7364fb705ad5.js"></script>
<script crossorigin="anonymous" defer="defer" type="application/javascript" src="https://github.githubassets.com/assets/github-elements-95e1429015db.js"></script>
<script crossorigin="anonymous" defer="defer" type="application/javascript" src="https://github.githubassets.com/assets/element-registry-817146790884.js"></script>
<script crossorigin="anonymous" defer="defer" type="application/javascript" src="https://github.githubassets.com/assets/vendors-node_modules_lit-html_lit-html_js-9d9fe1859ce5.js"></script>
<script crossorigin="anonymous" defer="defer" type="application/javascript" src="https://github.githubassets.com/assets/vendors-node_modules_github_hydro-analytics-client_dist_analytics-client_js-node_modules_gith-f3aee1-fd3c22610e40.js"></script>
<script crossorigin="anonymous" defer="defer" type="application/javascript" src="https://github.githubassets.com/assets/vendors-node_modules_morphdom_dist_morphdom-esm_js-b1fdd7158cf0.js"></script>
<script crossorigin="anonymous" defer="defer" type="application/javascript" src="https://github.githubassets.com/assets/vendors-node_modules_github_mini-throttle_dist_index_js-node_modules_github_alive-client_dist-bf5aa2-424aa982deef.js"></script>
<script crossorigin="anonymous" defer="defer" type="application/javascript" src="https://github.githubassets.com/assets/vendors-node_modules_github_turbo_dist_turbo_es2017-esm_js-1f4793023fcd.js"></script>
<script crossorigin="anonymous" defer="defer" type="application/javascript" src="https://github.githubassets.com/assets/vendors-node_modules_github_remote-form_dist_index_js-node_modules_scroll-anchoring_dist_scro-52dc4b-e1e33bfc0b7e.js"></script>
<script crossorigin="anonymous" defer="defer" type="application/javascript" src="https://github.githubassets.com/assets/vendors-node_modules_color-convert_index_js-35b3ae68c408.js"></script>
<script crossorigin="anonymous" defer="defer" type="application/javascript" src="https://github.githubassets.com/assets/vendors-node_modules_github_paste-markdown_dist_index_esm_js-node_modules_github_quote-select-7a8e2b-f036384374ea.js"></script>
<script crossorigin="anonymous" defer="defer" type="application/javascript" src="https://github.githubassets.com/assets/app_assets_modules_github_updatable-content_ts-126aeb5c22c9.js"></script>
<script crossorigin="anonymous" defer="defer" type="application/javascript" src="https://github.githubassets.com/assets/app_assets_modules_github_behaviors_task-list_ts-app_assets_modules_github_onfocus_ts-app_ass-079b43-c46fa3ecf26e.js"></script>
<script crossorigin="anonymous" defer="defer" type="application/javascript" src="https://github.githubassets.com/assets/app_assets_modules_github_sticky-scroll-into-view_ts-050ad6637d58.js"></script>
<script crossorigin="anonymous" defer="defer" type="application/javascript" src="https://github.githubassets.com/assets/app_assets_modules_github_behaviors_ajax-error_ts-app_assets_modules_github_behaviors_include-2e2258-b84eab1b8924.js"></script>
<script crossorigin="anonymous" defer="defer" type="application/javascript" src="https://github.githubassets.com/assets/app_assets_modules_github_behaviors_commenting_edit_ts-app_assets_modules_github_behaviors_ht-83c235-f22ac6b94445.js"></script>
<script crossorigin="anonymous" defer="defer" type="application/javascript" src="https://github.githubassets.com/assets/app_assets_modules_github_blob-anchor_ts-app_assets_modules_github_filter-sort_ts-app_assets_-c96432-3460172f1b1f.js"></script>
<script crossorigin="anonymous" defer="defer" type="application/javascript" src="https://github.githubassets.com/assets/behaviors-2ddda129d9da.js"></script>
<script crossorigin="anonymous" defer="defer" type="application/javascript" src="https://github.githubassets.com/assets/vendors-node_modules_delegated-events_dist_index_js-node_modules_github_catalyst_lib_index_js-06ff531-fe0b8ccc90a5.js"></script>
<script crossorigin="anonymous" defer="defer" type="application/javascript" src="https://github.githubassets.com/assets/notifications-global-f57687007bfc.js"></script>
<script crossorigin="anonymous" defer="defer" type="application/javascript" src="https://github.githubassets.com/assets/code-menu-edcbb51ff424.js"></script>
  
  <script crossorigin="anonymous" defer="defer" type="application/javascript" src="https://github.githubassets.com/assets/react-lib-210c4b5934c3.js"></script>
<script crossorigin="anonymous" defer="defer" type="application/javascript" src="https://github.githubassets.com/assets/vendors-node_modules_primer_octicons-react_dist_index_esm_js-node_modules_primer_react_lib-es-ca6dae-4ba8070e4105.js"></script>
<script crossorigin="anonymous" defer="defer" type="application/javascript" src="https://github.githubassets.com/assets/vendors-node_modules_primer_react_lib-esm_Button_index_js-node_modules_primer_react_lib-esm_L-41b0e5-0a98d095bd7f.js"></script>
<script crossorigin="anonymous" defer="defer" type="application/javascript" src="https://github.githubassets.com/assets/vendors-node_modules_primer_react_lib-esm_ActionList_index_js-8a7745ac8362.js"></script>
<script crossorigin="anonymous" defer="defer" type="application/javascript" src="https://github.githubassets.com/assets/vendors-node_modules_primer_react_lib-esm_Overlay_Overlay_js-node_modules_primer_react_lib-es-c25505-7256d09cc6de.js"></script>
<script crossorigin="anonymous" defer="defer" type="application/javascript" src="https://github.githubassets.com/assets/vendors-node_modules_primer_react_lib-esm_TextInput_TextInput_js-bda16ad5f5c0.js"></script>
<script crossorigin="anonymous" defer="defer" type="application/javascript" src="https://github.githubassets.com/assets/vendors-node_modules_primer_react_lib-esm_ActionMenu_js-fb2356b308cf.js"></script>
<script crossorigin="anonymous" defer="defer" type="application/javascript" src="https://github.githubassets.com/assets/vendors-node_modules_primer_behaviors_dist_esm_scroll-into-view_js-node_modules_primer_react_-04bb1b-f1078ffd63d6.js"></script>
<script crossorigin="anonymous" defer="defer" type="application/javascript" src="https://github.githubassets.com/assets/vendors-node_modules_primer_react_lib-esm_FormControl_FormControl_js-3ec7b5d8c7d7.js"></script>
<script crossorigin="anonymous" defer="defer" type="application/javascript" src="https://github.githubassets.com/assets/vendors-node_modules_primer_react_lib-esm_Heading_Heading_js-node_modules_primer_react_lib-es-20c766-3952b4d6d547.js"></script>
<script crossorigin="anonymous" defer="defer" type="application/javascript" src="https://github.githubassets.com/assets/vendors-node_modules_primer_react_lib-esm_Avatar_Avatar_js-node_modules_primer_react_lib-esm_-9829a5-7122e2fd110e.js"></script>
<script crossorigin="anonymous" defer="defer" type="application/javascript" src="https://github.githubassets.com/assets/vendors-node_modules_primer_react_lib-esm_Dialog_js-node_modules_primer_react_lib-esm_TabNav_-8321f5-f6c3aa4bc5a3.js"></script>
<script crossorigin="anonymous" defer="defer" type="application/javascript" src="https://github.githubassets.com/assets/vendors-node_modules_js-yaml_index_js-node_modules_leven_index_js-09eaf6f363f5.js"></script>
<script crossorigin="anonymous" defer="defer" type="application/javascript" src="https://github.githubassets.com/assets/vendors-node_modules_primer_react_lib-esm_TreeView_TreeView_js-2d5a3fb3b8ec.js"></script>
<script crossorigin="anonymous" defer="defer" type="application/javascript" src="https://github.githubassets.com/assets/vendors-node_modules_cronstrue_dist_cronstrue_js-25a1d4fa28bf.js"></script>
<script crossorigin="anonymous" defer="defer" type="application/javascript" src="https://github.githubassets.com/assets/vendors-node_modules_primer_react_lib-esm_BranchName_BranchName_js-node_modules_primer_react_-af9c99-c19bee8959e2.js"></script>
<script crossorigin="anonymous" defer="defer" type="application/javascript" src="https://github.githubassets.com/assets/vendors-node_modules_primer_react_lib-esm_NavList_NavList_js-node_modules_primer_react_lib-es-ff3f14-9a81ecfa3742.js"></script>
<script crossorigin="anonymous" defer="defer" type="application/javascript" src="https://github.githubassets.com/assets/vendors-node_modules_primer_react_lib-esm_AvatarStack_AvatarStack_js-node_modules_primer_reac-0b4173-d8ba3894d9e9.js"></script>
<script crossorigin="anonymous" defer="defer" type="application/javascript" src="https://github.githubassets.com/assets/vendors-node_modules_primer_react_lib-esm_CircleOcticon_CircleOcticon_js-node_modules_primer_-5f69e9-28a2c544b70d.js"></script>
<script crossorigin="anonymous" defer="defer" type="application/javascript" src="https://github.githubassets.com/assets/ui_packages_react-core_deferred-registry_ts-ui_packages_react-core_AppContextProvider_tsx-ui_-36d03f-d435763809b0.js"></script>
<script crossorigin="anonymous" defer="defer" type="application/javascript" src="https://github.githubassets.com/assets/ui_packages_ref-selector_RefSelector_tsx-ui_packages_safe-html_SafeHTML_tsx-ab7d3e5c842f.js"></script>
<script crossorigin="anonymous" defer="defer" type="application/javascript" src="https://github.githubassets.com/assets/app_assets_modules_github_editor_yaml-editors_workflow_workflow-rules_ts-ui_packages_trusted--45f807-b2a6e388da98.js"></script>
<script crossorigin="anonymous" defer="defer" type="application/javascript" src="https://github.githubassets.com/assets/ui_packages_analytics-provider_analytics-provider_ts-app_assets_modules_react-code-view_pages-ea7c12-4778520335e9.js"></script>
<script crossorigin="anonymous" defer="defer" type="application/javascript" src="https://github.githubassets.com/assets/react-code-view-699edc25c1de.js"></script>


  <title>Paatshala/Measures of Central Tendency and Dispersion.ipynb at main · ayeayekaizouku/Paatshala · GitHub</title>



  <meta name="route-pattern" content="/:user_id/:repository/blob/*name(/*path)">

    
  <meta name="current-catalog-service-hash" content="82c569b93da5c18ed649ebd4c2c79437db4611a6a1373e805a3cb001c64130b7">


  <meta name="request-id" content="1819:179A3F:145486D:1672089:64B943CC" data-pjax-transient="true"/><meta name="html-safe-nonce" content="380aaa6860b82c170ec9811b28724ed68e763c4091c52e7a4d84fa8232c5d931" data-pjax-transient="true"/><meta name="visitor-payload" content="eyJyZWZlcnJlciI6Imh0dHBzOi8vbWFpbC5nb29nbGUuY29tLyIsInJlcXVlc3RfaWQiOiIxODE5OjE3OUEzRjoxNDU0ODZEOjE2NzIwODk6NjRCOTQzQ0MiLCJ2aXNpdG9yX2lkIjoiNzc1NDgzNTU3NTE0NTcwMTIwMyIsInJlZ2lvbl9lZGdlIjoiY2VudHJhbGluZGlhIiwicmVnaW9uX3JlbmRlciI6ImNlbnRyYWxpbmRpYSJ9" data-pjax-transient="true"/><meta name="visitor-hmac" content="86addc66b50ea7924c066bde45260317d87a2155566ca4fe04ff92cfad1dbe57" data-pjax-transient="true"/>


    <meta name="hovercard-subject-tag" content="repository:612865492" data-turbo-transient>


  <meta name="github-keyboard-shortcuts" content="repository,source-code,file-tree" data-turbo-transient="true" />
  

  <meta name="selected-link" value="repo_source" data-turbo-transient>
  <link rel="assets" href="https://github.githubassets.com/">

    <meta name="google-site-verification" content="c1kuD-K2HIVF635lypcsWPoD4kilo5-jA_wBFyT4uMY">
  <meta name="google-site-verification" content="KT5gs8h0wvaagLKAVWq8bbeNwnZZK1r1XQysX3xurLU">
  <meta name="google-site-verification" content="ZzhVyEFwb7w3e0-uOTltm8Jsck2F5StVihD0exw2fsA">
  <meta name="google-site-verification" content="GXs5KoUUkNCoaAZn7wPN-t01Pywp9M3sEjnt_3_ZWPc">
  <meta name="google-site-verification" content="Apib7-x98H0j5cPqHWwSMm6dNU4GmODRoqxLiDzdx9I">

<meta name="octolytics-url" content="https://collector.github.com/github/collect" />

  <meta name="analytics-location" content="/&lt;user-name&gt;/&lt;repo-name&gt;/blob/show" data-turbo-transient="true" />

  




  

    <meta name="user-login" content="">

  

    <meta name="viewport" content="width=device-width">
    
      <meta name="description" content="Contribute to ayeayekaizouku/Paatshala development by creating an account on GitHub.">
      <link rel="search" type="application/opensearchdescription+xml" href="/opensearch.xml" title="GitHub">
    <link rel="fluid-icon" href="https://github.com/fluidicon.png" title="GitHub">
    <meta property="fb:app_id" content="1401488693436528">
    <meta name="apple-itunes-app" content="app-id=1477376905, app-argument=https://github.com/ayeayekaizouku/Paatshala/blob/main/Measures%20of%20Central%20Tendency%20and%20Dispersion.ipynb" />
      <meta name="twitter:image:src" content="https://opengraph.githubassets.com/66184d1e8e9ed2899145a6856c09c45df76cd8baa912138324af3f89130d9d8e/ayeayekaizouku/Paatshala" /><meta name="twitter:site" content="@github" /><meta name="twitter:card" content="summary_large_image" /><meta name="twitter:title" content="Paatshala/Measures of Central Tendency and Dispersion.ipynb at main · ayeayekaizouku/Paatshala" /><meta name="twitter:description" content="Contribute to ayeayekaizouku/Paatshala development by creating an account on GitHub." />
      <meta property="og:image" content="https://opengraph.githubassets.com/66184d1e8e9ed2899145a6856c09c45df76cd8baa912138324af3f89130d9d8e/ayeayekaizouku/Paatshala" /><meta property="og:image:alt" content="Contribute to ayeayekaizouku/Paatshala development by creating an account on GitHub." /><meta property="og:image:width" content="1200" /><meta property="og:image:height" content="600" /><meta property="og:site_name" content="GitHub" /><meta property="og:type" content="object" /><meta property="og:title" content="Paatshala/Measures of Central Tendency and Dispersion.ipynb at main · ayeayekaizouku/Paatshala" /><meta property="og:url" content="https://github.com/ayeayekaizouku/Paatshala/blob/main/Measures%20of%20Central%20Tendency%20and%20Dispersion.ipynb" /><meta property="og:description" content="Contribute to ayeayekaizouku/Paatshala development by creating an account on GitHub." />
      



        <meta name="hostname" content="github.com">



        <meta name="expected-hostname" content="github.com">

    <meta name="enabled-features" content="FAILBOT_HANDLE_NON_ERRORS,FIX_REACT_TITLE,GEOJSON_AZURE_MAPS,IMAGE_METRIC_TRACKING,TURBO_EXPERIMENT_RISKY,USE_SCROLL_RESTORATION">


  <meta http-equiv="x-pjax-version" content="c6a4b92b2afa31485eae05c467a343d4654f663d4aba87b3df06de476cfc8b5f" data-turbo-track="reload">
  <meta http-equiv="x-pjax-csp-version" content="d3902c74d83b7cc902d874cc2c861737295a49b0ba4e36eb0f764d362d1fd091" data-turbo-track="reload">
  <meta http-equiv="x-pjax-css-version" content="d1e00a76563e6ed28f5b2c6319dcf005b27223381f49fe8ea98356138a4a506e" data-turbo-track="reload">
  <meta http-equiv="x-pjax-js-version" content="42ac719889a279c92a5edd9cc35b610add0d3cb7b3fc2b175b17fe8f6186a7e0" data-turbo-track="reload">

  <meta name="turbo-cache-control" content="no-preview" data-turbo-transient="">

      <meta name="turbo-cache-control" content="no-cache" data-turbo-transient>
    <meta data-hydrostats="publish">

  <meta name="go-import" content="github.com/ayeayekaizouku/Paatshala git https://github.com/ayeayekaizouku/Paatshala.git">

  <meta name="octolytics-dimension-user_id" content="86514261" /><meta name="octolytics-dimension-user_login" content="ayeayekaizouku" /><meta name="octolytics-dimension-repository_id" content="612865492" /><meta name="octolytics-dimension-repository_nwo" content="ayeayekaizouku/Paatshala" /><meta name="octolytics-dimension-repository_public" content="true" /><meta name="octolytics-dimension-repository_is_fork" content="false" /><meta name="octolytics-dimension-repository_network_root_id" content="612865492" /><meta name="octolytics-dimension-repository_network_root_nwo" content="ayeayekaizouku/Paatshala" />



  <meta name="turbo-body-classes" content="logged-out env-production page-responsive">


  <meta name="browser-stats-url" content="https://api.github.com/_private/browser/stats">

  <meta name="browser-errors-url" content="https://api.github.com/_private/browser/errors">

  <meta name="browser-optimizely-client-errors-url" content="https://api.github.com/_private/browser/optimizely_client/errors">

  <link rel="mask-icon" href="https://github.githubassets.com/pinned-octocat.svg" color="#000000">
  <link rel="alternate icon" class="js-site-favicon" type="image/png" href="https://github.githubassets.com/favicons/favicon.png">
  <link rel="icon" class="js-site-favicon" type="image/svg+xml" href="https://github.githubassets.com/favicons/favicon.svg">

<meta name="theme-color" content="#1e2327">
<meta name="color-scheme" content="light dark" />


  <link rel="manifest" href="/manifest.json" crossOrigin="use-credentials">

  </head>

  <body class="logged-out env-production page-responsive" style="word-wrap: break-word;">
    <div data-turbo-body class="logged-out env-production page-responsive" style="word-wrap: break-word;">
      


    <div class="position-relative js-header-wrapper ">
      <a href="#start-of-content" class="px-2 py-4 color-bg-accent-emphasis color-fg-on-emphasis show-on-focus js-skip-to-content">Skip to content</a>
      <span data-view-component="true" class="progress-pjax-loader Progress position-fixed width-full">
    <span style="width: 0%;" data-view-component="true" class="Progress-item progress-pjax-loader-bar left-0 top-0 color-bg-accent-emphasis"></span>
</span>      
      


      

        

            

<script crossorigin="anonymous" defer="defer" type="application/javascript" src="https://github.githubassets.com/assets/vendors-node_modules_github_remote-form_dist_index_js-node_modules_github_memoize_dist_esm_in-687f35-d131f0b6de8e.js"></script>
<script crossorigin="anonymous" defer="defer" type="application/javascript" src="https://github.githubassets.com/assets/sessions-2638decb9ee5.js"></script>
<header class="Header-old header-logged-out js-details-container Details position-relative f4 py-3" role="banner" data-color-mode=light data-light-theme=light data-dark-theme=dark>
  <button type="button" class="Header-backdrop d-lg-none border-0 position-fixed top-0 left-0 width-full height-full js-details-target" aria-label="Toggle navigation">
    <span class="d-none">Toggle navigation</span>
  </button>

  <div class=" d-flex flex-column flex-lg-row flex-items-center p-responsive height-full position-relative z-1">
    <div class="d-flex flex-justify-between flex-items-center width-full width-lg-auto">
      <a class="mr-lg-3 color-fg-inherit flex-order-2" href="https://github.com/" aria-label="Homepage" data-ga-click="(Logged out) Header, go to homepage, icon:logo-wordmark">
        <svg height="32" aria-hidden="true" viewBox="0 0 16 16" version="1.1" width="32" data-view-component="true" class="octicon octicon-mark-github">
    <path d="M8 0c4.42 0 8 3.58 8 8a8.013 8.013 0 0 1-5.45 7.59c-.4.08-.55-.17-.55-.38 0-.27.01-1.13.01-2.2 0-.75-.25-1.23-.54-1.48 1.78-.2 3.65-.88 3.65-3.95 0-.88-.31-1.59-.82-2.15.08-.2.36-1.02-.08-2.12 0 0-.67-.22-2.2.82-.64-.18-1.32-.27-2-.27-.68 0-1.36.09-2 .27-1.53-1.03-2.2-.82-2.2-.82-.44 1.1-.16 1.92-.08 2.12-.51.56-.82 1.28-.82 2.15 0 3.06 1.86 3.75 3.64 3.95-.23.2-.44.55-.51 1.07-.46.21-1.61.55-2.33-.66-.15-.24-.6-.83-1.23-.82-.67.01-.27.38.01.53.34.19.73.9.82 1.13.16.45.68 1.31 2.69.94 0 .67.01 1.3.01 1.49 0 .21-.15.45-.55.38A7.995 7.995 0 0 1 0 8c0-4.42 3.58-8 8-8Z"></path>
</svg>
      </a>

        <div class="flex-1">
          <a href="/signup?ref_cta=Sign+up&amp;ref_loc=header+logged+out&amp;ref_page=%2F%3Cuser-name%3E%2F%3Crepo-name%3E%2Fblob%2Fshow&amp;source=header-repo"
            class="d-inline-block d-lg-none flex-order-1 f5 no-underline border color-border-default rounded-2 px-2 py-1 color-fg-inherit"
            data-hydro-click="{&quot;event_type&quot;:&quot;authentication.click&quot;,&quot;payload&quot;:{&quot;location_in_page&quot;:&quot;site header&quot;,&quot;repository_id&quot;:null,&quot;auth_type&quot;:&quot;SIGN_UP&quot;,&quot;originating_url&quot;:&quot;https://github.com/ayeayekaizouku/Paatshala/blob/main/Measures%20of%20Central%20Tendency%20and%20Dispersion.ipynb&quot;,&quot;user_id&quot;:null}}" data-hydro-click-hmac="a0c9ca495773fe7dd7f12eb5d430a5f66a53c725e9224f921ff179049e647d9c"
          >
            Sign&nbsp;up
          </a>
        </div>

      <div class="flex-1 flex-order-2 text-right">
          <button aria-label="Toggle navigation" aria-expanded="false" type="button" data-view-component="true" class="js-details-target Button--link Button--medium Button d-lg-none color-fg-inherit p-1">    <span class="Button-content">
      <span class="Button-label"><div class="HeaderMenu-toggle-bar rounded my-1"></div>
            <div class="HeaderMenu-toggle-bar rounded my-1"></div>
            <div class="HeaderMenu-toggle-bar rounded my-1"></div></span>
    </span>
</button>  
      </div>
    </div>


    <div class="HeaderMenu--logged-out p-responsive height-fit position-lg-relative d-lg-flex flex-column flex-auto pt-7 pb-4 top-0">
      <div class="header-menu-wrapper d-flex flex-column flex-self-end flex-lg-row flex-justify-between flex-auto p-3 p-lg-0 rounded rounded-lg-0 mt-3 mt-lg-0">
          <nav class="mt-0 px-3 px-lg-0 mb-3 mb-lg-0" aria-label="Global">
            <ul class="d-lg-flex list-style-none">
                <li class="HeaderMenu-item position-relative flex-wrap flex-justify-between flex-items-center d-block d-lg-flex flex-lg-nowrap flex-lg-items-center js-details-container js-header-menu-item">
      <button type="button" class="HeaderMenu-link border-0 width-full width-lg-auto px-0 px-lg-2 py-3 py-lg-2 no-wrap d-flex flex-items-center flex-justify-between js-details-target" aria-expanded="false">
        Product
        <svg opacity="0.5" aria-hidden="true" height="16" viewBox="0 0 16 16" version="1.1" width="16" data-view-component="true" class="octicon octicon-chevron-down HeaderMenu-icon ml-1">
    <path d="M12.78 5.22a.749.749 0 0 1 0 1.06l-4.25 4.25a.749.749 0 0 1-1.06 0L3.22 6.28a.749.749 0 1 1 1.06-1.06L8 8.939l3.72-3.719a.749.749 0 0 1 1.06 0Z"></path>
</svg>
      </button>
      <div class="HeaderMenu-dropdown dropdown-menu rounded m-0 p-0 py-2 py-lg-4 position-relative position-lg-absolute left-0 left-lg-n3 d-lg-flex dropdown-menu-wide">
          <div class="px-lg-4 border-lg-right mb-4 mb-lg-0 pr-lg-7">
            <ul class="list-style-none f5" >
                <li>
  <a class="HeaderMenu-dropdown-link lh-condensed d-block no-underline position-relative py-2 Link--secondary d-flex flex-items-center pb-lg-3" data-analytics-event="{&quot;category&quot;:&quot;Header dropdown (logged out), Product&quot;,&quot;action&quot;:&quot;click to go to Actions&quot;,&quot;label&quot;:&quot;ref_cta:Actions;&quot;}" href="/features/actions">
      <svg aria-hidden="true" height="24" viewBox="0 0 24 24" version="1.1" width="24" data-view-component="true" class="octicon octicon-workflow color-fg-subtle mr-3">
    <path d="M1 3a2 2 0 0 1 2-2h6.5a2 2 0 0 1 2 2v6.5a2 2 0 0 1-2 2H7v4.063C7 16.355 7.644 17 8.438 17H12.5v-2.5a2 2 0 0 1 2-2H21a2 2 0 0 1 2 2V21a2 2 0 0 1-2 2h-6.5a2 2 0 0 1-2-2v-2.5H8.437A2.939 2.939 0 0 1 5.5 15.562V11.5H3a2 2 0 0 1-2-2Zm2-.5a.5.5 0 0 0-.5.5v6.5a.5.5 0 0 0 .5.5h6.5a.5.5 0 0 0 .5-.5V3a.5.5 0 0 0-.5-.5ZM14.5 14a.5.5 0 0 0-.5.5V21a.5.5 0 0 0 .5.5H21a.5.5 0 0 0 .5-.5v-6.5a.5.5 0 0 0-.5-.5Z"></path>
</svg>
      <div>
        <div class="color-fg-default h4">Actions</div>
        Automate any workflow
      </div>

    
</a></li>

                <li>
  <a class="HeaderMenu-dropdown-link lh-condensed d-block no-underline position-relative py-2 Link--secondary d-flex flex-items-center pb-lg-3" data-analytics-event="{&quot;category&quot;:&quot;Header dropdown (logged out), Product&quot;,&quot;action&quot;:&quot;click to go to Packages&quot;,&quot;label&quot;:&quot;ref_cta:Packages;&quot;}" href="/features/packages">
      <svg aria-hidden="true" height="24" viewBox="0 0 24 24" version="1.1" width="24" data-view-component="true" class="octicon octicon-package color-fg-subtle mr-3">
    <path d="M12.876.64V.639l8.25 4.763c.541.313.875.89.875 1.515v9.525a1.75 1.75 0 0 1-.875 1.516l-8.25 4.762a1.748 1.748 0 0 1-1.75 0l-8.25-4.763a1.75 1.75 0 0 1-.875-1.515V6.917c0-.625.334-1.202.875-1.515L11.126.64a1.748 1.748 0 0 1 1.75 0Zm-1 1.298L4.251 6.34l7.75 4.474 7.75-4.474-7.625-4.402a.248.248 0 0 0-.25 0Zm.875 19.123 7.625-4.402a.25.25 0 0 0 .125-.216V7.639l-7.75 4.474ZM3.501 7.64v8.803c0 .09.048.172.125.216l7.625 4.402v-8.947Z"></path>
</svg>
      <div>
        <div class="color-fg-default h4">Packages</div>
        Host and manage packages
      </div>

    
</a></li>

                <li>
  <a class="HeaderMenu-dropdown-link lh-condensed d-block no-underline position-relative py-2 Link--secondary d-flex flex-items-center pb-lg-3" data-analytics-event="{&quot;category&quot;:&quot;Header dropdown (logged out), Product&quot;,&quot;action&quot;:&quot;click to go to Security&quot;,&quot;label&quot;:&quot;ref_cta:Security;&quot;}" href="/features/security">
      <svg aria-hidden="true" height="24" viewBox="0 0 24 24" version="1.1" width="24" data-view-component="true" class="octicon octicon-shield-check color-fg-subtle mr-3">
    <path d="M16.53 9.78a.75.75 0 0 0-1.06-1.06L11 13.19l-1.97-1.97a.75.75 0 0 0-1.06 1.06l2.5 2.5a.75.75 0 0 0 1.06 0l5-5Z"></path><path d="m12.54.637 8.25 2.675A1.75 1.75 0 0 1 22 4.976V10c0 6.19-3.771 10.704-9.401 12.83a1.704 1.704 0 0 1-1.198 0C5.77 20.705 2 16.19 2 10V4.976c0-.758.489-1.43 1.21-1.664L11.46.637a1.748 1.748 0 0 1 1.08 0Zm-.617 1.426-8.25 2.676a.249.249 0 0 0-.173.237V10c0 5.46 3.28 9.483 8.43 11.426a.199.199 0 0 0 .14 0C17.22 19.483 20.5 15.461 20.5 10V4.976a.25.25 0 0 0-.173-.237l-8.25-2.676a.253.253 0 0 0-.154 0Z"></path>
</svg>
      <div>
        <div class="color-fg-default h4">Security</div>
        Find and fix vulnerabilities
      </div>

    
</a></li>

                <li>
  <a class="HeaderMenu-dropdown-link lh-condensed d-block no-underline position-relative py-2 Link--secondary d-flex flex-items-center pb-lg-3" data-analytics-event="{&quot;category&quot;:&quot;Header dropdown (logged out), Product&quot;,&quot;action&quot;:&quot;click to go to Codespaces&quot;,&quot;label&quot;:&quot;ref_cta:Codespaces;&quot;}" href="/features/codespaces">
      <svg aria-hidden="true" height="24" viewBox="0 0 24 24" version="1.1" width="24" data-view-component="true" class="octicon octicon-codespaces color-fg-subtle mr-3">
    <path d="M3.5 3.75C3.5 2.784 4.284 2 5.25 2h13.5c.966 0 1.75.784 1.75 1.75v7.5A1.75 1.75 0 0 1 18.75 13H5.25a1.75 1.75 0 0 1-1.75-1.75Zm-2 12c0-.966.784-1.75 1.75-1.75h17.5c.966 0 1.75.784 1.75 1.75v4a1.75 1.75 0 0 1-1.75 1.75H3.25a1.75 1.75 0 0 1-1.75-1.75ZM5.25 3.5a.25.25 0 0 0-.25.25v7.5c0 .138.112.25.25.25h13.5a.25.25 0 0 0 .25-.25v-7.5a.25.25 0 0 0-.25-.25Zm-2 12a.25.25 0 0 0-.25.25v4c0 .138.112.25.25.25h17.5a.25.25 0 0 0 .25-.25v-4a.25.25 0 0 0-.25-.25Z"></path><path d="M10 17.75a.75.75 0 0 1 .75-.75h6.5a.75.75 0 0 1 0 1.5h-6.5a.75.75 0 0 1-.75-.75Zm-4 0a.75.75 0 0 1 .75-.75h.5a.75.75 0 0 1 0 1.5h-.5a.75.75 0 0 1-.75-.75Z"></path>
</svg>
      <div>
        <div class="color-fg-default h4">Codespaces</div>
        Instant dev environments
      </div>

    
</a></li>

                <li>
  <a class="HeaderMenu-dropdown-link lh-condensed d-block no-underline position-relative py-2 Link--secondary d-flex flex-items-center pb-lg-3" data-analytics-event="{&quot;category&quot;:&quot;Header dropdown (logged out), Product&quot;,&quot;action&quot;:&quot;click to go to Copilot&quot;,&quot;label&quot;:&quot;ref_cta:Copilot;&quot;}" href="/features/copilot">
      <svg aria-hidden="true" height="24" viewBox="0 0 24 24" version="1.1" width="24" data-view-component="true" class="octicon octicon-copilot color-fg-subtle mr-3">
    <path d="M9.75 14a.75.75 0 0 1 .75.75v2.5a.75.75 0 0 1-1.5 0v-2.5a.75.75 0 0 1 .75-.75Zm4.5 0a.75.75 0 0 1 .75.75v2.5a.75.75 0 0 1-1.5 0v-2.5a.75.75 0 0 1 .75-.75Z"></path><path d="M12 2c2.214 0 4.248.657 5.747 1.756.136.099.268.204.397.312.584.235 1.077.546 1.474.952.85.869 1.132 2.037 1.132 3.368 0 .368-.014.733-.052 1.086l.633 1.478.043.022A4.75 4.75 0 0 1 24 15.222v1.028c0 .529-.309.987-.565 1.293-.28.336-.636.653-.966.918a13.84 13.84 0 0 1-1.299.911l-.024.015-.006.004-.039.025c-.223.135-.45.264-.68.386-.46.245-1.122.571-1.941.895C16.845 21.344 14.561 22 12 22c-2.561 0-4.845-.656-6.479-1.303a19.046 19.046 0 0 1-1.942-.894 14.081 14.081 0 0 1-.535-.3l-.144-.087-.04-.025-.006-.004-.024-.015a13.16 13.16 0 0 1-1.299-.911 6.913 6.913 0 0 1-.967-.918C.31 17.237 0 16.779 0 16.25v-1.028a4.75 4.75 0 0 1 2.626-4.248l.043-.022.633-1.478a10.195 10.195 0 0 1-.052-1.086c0-1.331.282-2.498 1.132-3.368.397-.406.89-.717 1.474-.952.129-.108.261-.213.397-.312C7.752 2.657 9.786 2 12 2Zm-8 9.654v6.669a17.59 17.59 0 0 0 2.073.98C7.595 19.906 9.686 20.5 12 20.5c2.314 0 4.405-.594 5.927-1.197a17.59 17.59 0 0 0 2.073-.98v-6.669l-.038-.09c-.046.061-.095.12-.145.177-.793.9-2.057 1.259-3.782 1.259-1.59 0-2.738-.544-3.508-1.492a4.323 4.323 0 0 1-.355-.508h-.344a4.323 4.323 0 0 1-.355.508C10.704 12.456 9.555 13 7.965 13c-1.725 0-2.989-.359-3.782-1.259a3.026 3.026 0 0 1-.145-.177Zm6.309-1.092c.445-.547.708-1.334.851-2.301.057-.357.087-.718.09-1.079v-.031c-.001-.762-.166-1.26-.43-1.568l-.008-.01c-.341-.391-1.046-.689-2.533-.529-1.505.163-2.347.537-2.824 1.024-.462.473-.705 1.18-.705 2.32 0 .605.044 1.087.135 1.472.092.384.231.672.423.89.365.413 1.084.75 2.657.75.91 0 1.527-.223 1.964-.564.14-.11.268-.235.38-.374Zm2.504-2.497c.136 1.057.403 1.913.878 2.497.442.545 1.134.938 2.344.938 1.573 0 2.292-.337 2.657-.751.384-.435.558-1.151.558-2.361 0-1.14-.243-1.847-.705-2.319-.477-.488-1.318-.862-2.824-1.025-1.487-.161-2.192.139-2.533.529-.268.308-.437.808-.438 1.578v.02c.002.299.023.598.063.894Z"></path>
</svg>
      <div>
        <div class="color-fg-default h4">Copilot</div>
        Write better code with AI
      </div>

    
</a></li>

                <li>
  <a class="HeaderMenu-dropdown-link lh-condensed d-block no-underline position-relative py-2 Link--secondary d-flex flex-items-center pb-lg-3" data-analytics-event="{&quot;category&quot;:&quot;Header dropdown (logged out), Product&quot;,&quot;action&quot;:&quot;click to go to Code review&quot;,&quot;label&quot;:&quot;ref_cta:Code review;&quot;}" href="/features/code-review">
      <svg aria-hidden="true" height="24" viewBox="0 0 24 24" version="1.1" width="24" data-view-component="true" class="octicon octicon-code-review color-fg-subtle mr-3">
    <path d="M10.3 6.74a.75.75 0 0 1-.04 1.06l-2.908 2.7 2.908 2.7a.75.75 0 1 1-1.02 1.1l-3.5-3.25a.75.75 0 0 1 0-1.1l3.5-3.25a.75.75 0 0 1 1.06.04Zm3.44 1.06a.75.75 0 1 1 1.02-1.1l3.5 3.25a.75.75 0 0 1 0 1.1l-3.5 3.25a.75.75 0 1 1-1.02-1.1l2.908-2.7-2.908-2.7Z"></path><path d="M1.5 4.25c0-.966.784-1.75 1.75-1.75h17.5c.966 0 1.75.784 1.75 1.75v12.5a1.75 1.75 0 0 1-1.75 1.75h-9.69l-3.573 3.573A1.458 1.458 0 0 1 5 21.043V18.5H3.25a1.75 1.75 0 0 1-1.75-1.75ZM3.25 4a.25.25 0 0 0-.25.25v12.5c0 .138.112.25.25.25h2.5a.75.75 0 0 1 .75.75v3.19l3.72-3.72a.749.749 0 0 1 .53-.22h10a.25.25 0 0 0 .25-.25V4.25a.25.25 0 0 0-.25-.25Z"></path>
</svg>
      <div>
        <div class="color-fg-default h4">Code review</div>
        Manage code changes
      </div>

    
</a></li>

                <li>
  <a class="HeaderMenu-dropdown-link lh-condensed d-block no-underline position-relative py-2 Link--secondary d-flex flex-items-center pb-lg-3" data-analytics-event="{&quot;category&quot;:&quot;Header dropdown (logged out), Product&quot;,&quot;action&quot;:&quot;click to go to Issues&quot;,&quot;label&quot;:&quot;ref_cta:Issues;&quot;}" href="/features/issues">
      <svg aria-hidden="true" height="24" viewBox="0 0 24 24" version="1.1" width="24" data-view-component="true" class="octicon octicon-issue-opened color-fg-subtle mr-3">
    <path d="M12 1c6.075 0 11 4.925 11 11s-4.925 11-11 11S1 18.075 1 12 5.925 1 12 1ZM2.5 12a9.5 9.5 0 0 0 9.5 9.5 9.5 9.5 0 0 0 9.5-9.5A9.5 9.5 0 0 0 12 2.5 9.5 9.5 0 0 0 2.5 12Zm9.5 2a2 2 0 1 1-.001-3.999A2 2 0 0 1 12 14Z"></path>
</svg>
      <div>
        <div class="color-fg-default h4">Issues</div>
        Plan and track work
      </div>

    
</a></li>

                <li>
  <a class="HeaderMenu-dropdown-link lh-condensed d-block no-underline position-relative py-2 Link--secondary d-flex flex-items-center" data-analytics-event="{&quot;category&quot;:&quot;Header dropdown (logged out), Product&quot;,&quot;action&quot;:&quot;click to go to Discussions&quot;,&quot;label&quot;:&quot;ref_cta:Discussions;&quot;}" href="/features/discussions">
      <svg aria-hidden="true" height="24" viewBox="0 0 24 24" version="1.1" width="24" data-view-component="true" class="octicon octicon-comment-discussion color-fg-subtle mr-3">
    <path d="M1.75 1h12.5c.966 0 1.75.784 1.75 1.75v9.5A1.75 1.75 0 0 1 14.25 14H8.061l-2.574 2.573A1.458 1.458 0 0 1 3 15.543V14H1.75A1.75 1.75 0 0 1 0 12.25v-9.5C0 1.784.784 1 1.75 1ZM1.5 2.75v9.5c0 .138.112.25.25.25h2a.75.75 0 0 1 .75.75v2.19l2.72-2.72a.749.749 0 0 1 .53-.22h6.5a.25.25 0 0 0 .25-.25v-9.5a.25.25 0 0 0-.25-.25H1.75a.25.25 0 0 0-.25.25Z"></path><path d="M22.5 8.75a.25.25 0 0 0-.25-.25h-3.5a.75.75 0 0 1 0-1.5h3.5c.966 0 1.75.784 1.75 1.75v9.5A1.75 1.75 0 0 1 22.25 20H21v1.543a1.457 1.457 0 0 1-2.487 1.03L15.939 20H10.75A1.75 1.75 0 0 1 9 18.25v-1.465a.75.75 0 0 1 1.5 0v1.465c0 .138.112.25.25.25h5.5a.75.75 0 0 1 .53.22l2.72 2.72v-2.19a.75.75 0 0 1 .75-.75h2a.25.25 0 0 0 .25-.25v-9.5Z"></path>
</svg>
      <div>
        <div class="color-fg-default h4">Discussions</div>
        Collaborate outside of code
      </div>

    
</a></li>

            </ul>
          </div>
          <div class="px-lg-4">
              <span class="d-block h4 color-fg-default my-1" id="product-explore-heading">Explore</span>
            <ul class="list-style-none f5" aria-labelledby="product-explore-heading">
                <li>
  <a class="HeaderMenu-dropdown-link lh-condensed d-block no-underline position-relative py-2 Link--secondary" data-analytics-event="{&quot;category&quot;:&quot;Header dropdown (logged out), Product&quot;,&quot;action&quot;:&quot;click to go to All features&quot;,&quot;label&quot;:&quot;ref_cta:All features;&quot;}" href="/features">
      All features

    
</a></li>

                <li>
  <a class="HeaderMenu-dropdown-link lh-condensed d-block no-underline position-relative py-2 Link--secondary" target="_blank" data-analytics-event="{&quot;category&quot;:&quot;Header dropdown (logged out), Product&quot;,&quot;action&quot;:&quot;click to go to Documentation&quot;,&quot;label&quot;:&quot;ref_cta:Documentation;&quot;}" href="https://docs.github.com">
      Documentation

    <svg aria-hidden="true" height="16" viewBox="0 0 16 16" version="1.1" width="16" data-view-component="true" class="octicon octicon-link-external HeaderMenu-external-icon color-fg-subtle">
    <path d="M3.75 2h3.5a.75.75 0 0 1 0 1.5h-3.5a.25.25 0 0 0-.25.25v8.5c0 .138.112.25.25.25h8.5a.25.25 0 0 0 .25-.25v-3.5a.75.75 0 0 1 1.5 0v3.5A1.75 1.75 0 0 1 12.25 14h-8.5A1.75 1.75 0 0 1 2 12.25v-8.5C2 2.784 2.784 2 3.75 2Zm6.854-1h4.146a.25.25 0 0 1 .25.25v4.146a.25.25 0 0 1-.427.177L13.03 4.03 9.28 7.78a.751.751 0 0 1-1.042-.018.751.751 0 0 1-.018-1.042l3.75-3.75-1.543-1.543A.25.25 0 0 1 10.604 1Z"></path>
</svg>
</a></li>

                <li>
  <a class="HeaderMenu-dropdown-link lh-condensed d-block no-underline position-relative py-2 Link--secondary" target="_blank" data-analytics-event="{&quot;category&quot;:&quot;Header dropdown (logged out), Product&quot;,&quot;action&quot;:&quot;click to go to GitHub Skills&quot;,&quot;label&quot;:&quot;ref_cta:GitHub Skills;&quot;}" href="https://skills.github.com/">
      GitHub Skills

    <svg aria-hidden="true" height="16" viewBox="0 0 16 16" version="1.1" width="16" data-view-component="true" class="octicon octicon-link-external HeaderMenu-external-icon color-fg-subtle">
    <path d="M3.75 2h3.5a.75.75 0 0 1 0 1.5h-3.5a.25.25 0 0 0-.25.25v8.5c0 .138.112.25.25.25h8.5a.25.25 0 0 0 .25-.25v-3.5a.75.75 0 0 1 1.5 0v3.5A1.75 1.75 0 0 1 12.25 14h-8.5A1.75 1.75 0 0 1 2 12.25v-8.5C2 2.784 2.784 2 3.75 2Zm6.854-1h4.146a.25.25 0 0 1 .25.25v4.146a.25.25 0 0 1-.427.177L13.03 4.03 9.28 7.78a.751.751 0 0 1-1.042-.018.751.751 0 0 1-.018-1.042l3.75-3.75-1.543-1.543A.25.25 0 0 1 10.604 1Z"></path>
</svg>
</a></li>

                <li>
  <a class="HeaderMenu-dropdown-link lh-condensed d-block no-underline position-relative py-2 Link--secondary" target="_blank" data-analytics-event="{&quot;category&quot;:&quot;Header dropdown (logged out), Product&quot;,&quot;action&quot;:&quot;click to go to Blog&quot;,&quot;label&quot;:&quot;ref_cta:Blog;&quot;}" href="https://github.blog">
      Blog

    <svg aria-hidden="true" height="16" viewBox="0 0 16 16" version="1.1" width="16" data-view-component="true" class="octicon octicon-link-external HeaderMenu-external-icon color-fg-subtle">
    <path d="M3.75 2h3.5a.75.75 0 0 1 0 1.5h-3.5a.25.25 0 0 0-.25.25v8.5c0 .138.112.25.25.25h8.5a.25.25 0 0 0 .25-.25v-3.5a.75.75 0 0 1 1.5 0v3.5A1.75 1.75 0 0 1 12.25 14h-8.5A1.75 1.75 0 0 1 2 12.25v-8.5C2 2.784 2.784 2 3.75 2Zm6.854-1h4.146a.25.25 0 0 1 .25.25v4.146a.25.25 0 0 1-.427.177L13.03 4.03 9.28 7.78a.751.751 0 0 1-1.042-.018.751.751 0 0 1-.018-1.042l3.75-3.75-1.543-1.543A.25.25 0 0 1 10.604 1Z"></path>
</svg>
</a></li>

            </ul>
          </div>
      </div>
</li>


                <li class="HeaderMenu-item position-relative flex-wrap flex-justify-between flex-items-center d-block d-lg-flex flex-lg-nowrap flex-lg-items-center js-details-container js-header-menu-item">
      <button type="button" class="HeaderMenu-link border-0 width-full width-lg-auto px-0 px-lg-2 py-3 py-lg-2 no-wrap d-flex flex-items-center flex-justify-between js-details-target" aria-expanded="false">
        Solutions
        <svg opacity="0.5" aria-hidden="true" height="16" viewBox="0 0 16 16" version="1.1" width="16" data-view-component="true" class="octicon octicon-chevron-down HeaderMenu-icon ml-1">
    <path d="M12.78 5.22a.749.749 0 0 1 0 1.06l-4.25 4.25a.749.749 0 0 1-1.06 0L3.22 6.28a.749.749 0 1 1 1.06-1.06L8 8.939l3.72-3.719a.749.749 0 0 1 1.06 0Z"></path>
</svg>
      </button>
      <div class="HeaderMenu-dropdown dropdown-menu rounded m-0 p-0 py-2 py-lg-4 position-relative position-lg-absolute left-0 left-lg-n3 px-lg-4">
          <div class="border-bottom pb-3 mb-3">
              <span class="d-block h4 color-fg-default my-1" id="solutions-for-heading">For</span>
            <ul class="list-style-none f5" aria-labelledby="solutions-for-heading">
                <li>
  <a class="HeaderMenu-dropdown-link lh-condensed d-block no-underline position-relative py-2 Link--secondary" data-analytics-event="{&quot;category&quot;:&quot;Header dropdown (logged out), Solutions&quot;,&quot;action&quot;:&quot;click to go to Enterprise&quot;,&quot;label&quot;:&quot;ref_cta:Enterprise;&quot;}" href="/enterprise">
      Enterprise

    
</a></li>

                <li>
  <a class="HeaderMenu-dropdown-link lh-condensed d-block no-underline position-relative py-2 Link--secondary" data-analytics-event="{&quot;category&quot;:&quot;Header dropdown (logged out), Solutions&quot;,&quot;action&quot;:&quot;click to go to Teams&quot;,&quot;label&quot;:&quot;ref_cta:Teams;&quot;}" href="/team">
      Teams

    
</a></li>

                <li>
  <a class="HeaderMenu-dropdown-link lh-condensed d-block no-underline position-relative py-2 Link--secondary" data-analytics-event="{&quot;category&quot;:&quot;Header dropdown (logged out), Solutions&quot;,&quot;action&quot;:&quot;click to go to Startups&quot;,&quot;label&quot;:&quot;ref_cta:Startups;&quot;}" href="/enterprise/startups">
      Startups

    
</a></li>

                <li>
  <a class="HeaderMenu-dropdown-link lh-condensed d-block no-underline position-relative py-2 Link--secondary" target="_blank" data-analytics-event="{&quot;category&quot;:&quot;Header dropdown (logged out), Solutions&quot;,&quot;action&quot;:&quot;click to go to Education&quot;,&quot;label&quot;:&quot;ref_cta:Education;&quot;}" href="https://education.github.com">
      Education

    <svg aria-hidden="true" height="16" viewBox="0 0 16 16" version="1.1" width="16" data-view-component="true" class="octicon octicon-link-external HeaderMenu-external-icon color-fg-subtle">
    <path d="M3.75 2h3.5a.75.75 0 0 1 0 1.5h-3.5a.25.25 0 0 0-.25.25v8.5c0 .138.112.25.25.25h8.5a.25.25 0 0 0 .25-.25v-3.5a.75.75 0 0 1 1.5 0v3.5A1.75 1.75 0 0 1 12.25 14h-8.5A1.75 1.75 0 0 1 2 12.25v-8.5C2 2.784 2.784 2 3.75 2Zm6.854-1h4.146a.25.25 0 0 1 .25.25v4.146a.25.25 0 0 1-.427.177L13.03 4.03 9.28 7.78a.751.751 0 0 1-1.042-.018.751.751 0 0 1-.018-1.042l3.75-3.75-1.543-1.543A.25.25 0 0 1 10.604 1Z"></path>
</svg>
</a></li>

            </ul>
          </div>
          <div class="border-bottom pb-3 mb-3">
              <span class="d-block h4 color-fg-default my-1" id="solutions-by-solution-heading">By Solution</span>
            <ul class="list-style-none f5" aria-labelledby="solutions-by-solution-heading">
                <li>
  <a class="HeaderMenu-dropdown-link lh-condensed d-block no-underline position-relative py-2 Link--secondary" data-analytics-event="{&quot;category&quot;:&quot;Header dropdown (logged out), Solutions&quot;,&quot;action&quot;:&quot;click to go to CI/CD &amp;amp; Automation&quot;,&quot;label&quot;:&quot;ref_cta:CI/CD &amp;amp; Automation;&quot;}" href="/solutions/ci-cd/">
      CI/CD &amp; Automation

    
</a></li>

                <li>
  <a class="HeaderMenu-dropdown-link lh-condensed d-block no-underline position-relative py-2 Link--secondary" target="_blank" data-analytics-event="{&quot;category&quot;:&quot;Header dropdown (logged out), Solutions&quot;,&quot;action&quot;:&quot;click to go to DevOps&quot;,&quot;label&quot;:&quot;ref_cta:DevOps;&quot;}" href="https://resources.github.com/devops/">
      DevOps

    <svg aria-hidden="true" height="16" viewBox="0 0 16 16" version="1.1" width="16" data-view-component="true" class="octicon octicon-link-external HeaderMenu-external-icon color-fg-subtle">
    <path d="M3.75 2h3.5a.75.75 0 0 1 0 1.5h-3.5a.25.25 0 0 0-.25.25v8.5c0 .138.112.25.25.25h8.5a.25.25 0 0 0 .25-.25v-3.5a.75.75 0 0 1 1.5 0v3.5A1.75 1.75 0 0 1 12.25 14h-8.5A1.75 1.75 0 0 1 2 12.25v-8.5C2 2.784 2.784 2 3.75 2Zm6.854-1h4.146a.25.25 0 0 1 .25.25v4.146a.25.25 0 0 1-.427.177L13.03 4.03 9.28 7.78a.751.751 0 0 1-1.042-.018.751.751 0 0 1-.018-1.042l3.75-3.75-1.543-1.543A.25.25 0 0 1 10.604 1Z"></path>
</svg>
</a></li>

                <li>
  <a class="HeaderMenu-dropdown-link lh-condensed d-block no-underline position-relative py-2 Link--secondary" target="_blank" data-analytics-event="{&quot;category&quot;:&quot;Header dropdown (logged out), Solutions&quot;,&quot;action&quot;:&quot;click to go to DevSecOps&quot;,&quot;label&quot;:&quot;ref_cta:DevSecOps;&quot;}" href="https://resources.github.com/devops/fundamentals/devsecops/">
      DevSecOps

    <svg aria-hidden="true" height="16" viewBox="0 0 16 16" version="1.1" width="16" data-view-component="true" class="octicon octicon-link-external HeaderMenu-external-icon color-fg-subtle">
    <path d="M3.75 2h3.5a.75.75 0 0 1 0 1.5h-3.5a.25.25 0 0 0-.25.25v8.5c0 .138.112.25.25.25h8.5a.25.25 0 0 0 .25-.25v-3.5a.75.75 0 0 1 1.5 0v3.5A1.75 1.75 0 0 1 12.25 14h-8.5A1.75 1.75 0 0 1 2 12.25v-8.5C2 2.784 2.784 2 3.75 2Zm6.854-1h4.146a.25.25 0 0 1 .25.25v4.146a.25.25 0 0 1-.427.177L13.03 4.03 9.28 7.78a.751.751 0 0 1-1.042-.018.751.751 0 0 1-.018-1.042l3.75-3.75-1.543-1.543A.25.25 0 0 1 10.604 1Z"></path>
</svg>
</a></li>

            </ul>
          </div>
          <div class="">
              <span class="d-block h4 color-fg-default my-1" id="solutions-resources-heading">Resources</span>
            <ul class="list-style-none f5" aria-labelledby="solutions-resources-heading">
                <li>
  <a class="HeaderMenu-dropdown-link lh-condensed d-block no-underline position-relative py-2 Link--secondary" data-analytics-event="{&quot;category&quot;:&quot;Header dropdown (logged out), Solutions&quot;,&quot;action&quot;:&quot;click to go to Customer Stories&quot;,&quot;label&quot;:&quot;ref_cta:Customer Stories;&quot;}" href="/customer-stories">
      Customer Stories

    
</a></li>

                <li>
  <a class="HeaderMenu-dropdown-link lh-condensed d-block no-underline position-relative py-2 Link--secondary" target="_blank" data-analytics-event="{&quot;category&quot;:&quot;Header dropdown (logged out), Solutions&quot;,&quot;action&quot;:&quot;click to go to White papers, Ebooks, Webinars&quot;,&quot;label&quot;:&quot;ref_cta:White papers, Ebooks, Webinars;&quot;}" href="https://resources.github.com/">
      White papers, Ebooks, Webinars

    <svg aria-hidden="true" height="16" viewBox="0 0 16 16" version="1.1" width="16" data-view-component="true" class="octicon octicon-link-external HeaderMenu-external-icon color-fg-subtle">
    <path d="M3.75 2h3.5a.75.75 0 0 1 0 1.5h-3.5a.25.25 0 0 0-.25.25v8.5c0 .138.112.25.25.25h8.5a.25.25 0 0 0 .25-.25v-3.5a.75.75 0 0 1 1.5 0v3.5A1.75 1.75 0 0 1 12.25 14h-8.5A1.75 1.75 0 0 1 2 12.25v-8.5C2 2.784 2.784 2 3.75 2Zm6.854-1h4.146a.25.25 0 0 1 .25.25v4.146a.25.25 0 0 1-.427.177L13.03 4.03 9.28 7.78a.751.751 0 0 1-1.042-.018.751.751 0 0 1-.018-1.042l3.75-3.75-1.543-1.543A.25.25 0 0 1 10.604 1Z"></path>
</svg>
</a></li>

                <li>
  <a class="HeaderMenu-dropdown-link lh-condensed d-block no-underline position-relative py-2 Link--secondary" target="_blank" data-analytics-event="{&quot;category&quot;:&quot;Header dropdown (logged out), Solutions&quot;,&quot;action&quot;:&quot;click to go to Partners&quot;,&quot;label&quot;:&quot;ref_cta:Partners;&quot;}" href="https://partner.github.com/">
      Partners

    <svg aria-hidden="true" height="16" viewBox="0 0 16 16" version="1.1" width="16" data-view-component="true" class="octicon octicon-link-external HeaderMenu-external-icon color-fg-subtle">
    <path d="M3.75 2h3.5a.75.75 0 0 1 0 1.5h-3.5a.25.25 0 0 0-.25.25v8.5c0 .138.112.25.25.25h8.5a.25.25 0 0 0 .25-.25v-3.5a.75.75 0 0 1 1.5 0v3.5A1.75 1.75 0 0 1 12.25 14h-8.5A1.75 1.75 0 0 1 2 12.25v-8.5C2 2.784 2.784 2 3.75 2Zm6.854-1h4.146a.25.25 0 0 1 .25.25v4.146a.25.25 0 0 1-.427.177L13.03 4.03 9.28 7.78a.751.751 0 0 1-1.042-.018.751.751 0 0 1-.018-1.042l3.75-3.75-1.543-1.543A.25.25 0 0 1 10.604 1Z"></path>
</svg>
</a></li>

            </ul>
          </div>
      </div>
</li>


                <li class="HeaderMenu-item position-relative flex-wrap flex-justify-between flex-items-center d-block d-lg-flex flex-lg-nowrap flex-lg-items-center js-details-container js-header-menu-item">
      <button type="button" class="HeaderMenu-link border-0 width-full width-lg-auto px-0 px-lg-2 py-3 py-lg-2 no-wrap d-flex flex-items-center flex-justify-between js-details-target" aria-expanded="false">
        Open Source
        <svg opacity="0.5" aria-hidden="true" height="16" viewBox="0 0 16 16" version="1.1" width="16" data-view-component="true" class="octicon octicon-chevron-down HeaderMenu-icon ml-1">
    <path d="M12.78 5.22a.749.749 0 0 1 0 1.06l-4.25 4.25a.749.749 0 0 1-1.06 0L3.22 6.28a.749.749 0 1 1 1.06-1.06L8 8.939l3.72-3.719a.749.749 0 0 1 1.06 0Z"></path>
</svg>
      </button>
      <div class="HeaderMenu-dropdown dropdown-menu rounded m-0 p-0 py-2 py-lg-4 position-relative position-lg-absolute left-0 left-lg-n3 px-lg-4">
          <div class="border-bottom pb-3 mb-3">
            <ul class="list-style-none f5" >
                <li>
  <a class="HeaderMenu-dropdown-link lh-condensed d-block no-underline position-relative py-2 Link--secondary d-flex flex-items-center" data-analytics-event="{&quot;category&quot;:&quot;Header dropdown (logged out), Open Source&quot;,&quot;action&quot;:&quot;click to go to GitHub Sponsors&quot;,&quot;label&quot;:&quot;ref_cta:GitHub Sponsors;&quot;}" href="/sponsors">
      
      <div>
        <div class="color-fg-default h4">GitHub Sponsors</div>
        Fund open source developers
      </div>

    
</a></li>

            </ul>
          </div>
          <div class="border-bottom pb-3 mb-3">
            <ul class="list-style-none f5" >
                <li>
  <a class="HeaderMenu-dropdown-link lh-condensed d-block no-underline position-relative py-2 Link--secondary d-flex flex-items-center" data-analytics-event="{&quot;category&quot;:&quot;Header dropdown (logged out), Open Source&quot;,&quot;action&quot;:&quot;click to go to The ReadME Project&quot;,&quot;label&quot;:&quot;ref_cta:The ReadME Project;&quot;}" href="/readme">
      
      <div>
        <div class="color-fg-default h4">The ReadME Project</div>
        GitHub community articles
      </div>

    
</a></li>

            </ul>
          </div>
          <div class="">
              <span class="d-block h4 color-fg-default my-1" id="open-source-repositories-heading">Repositories</span>
            <ul class="list-style-none f5" aria-labelledby="open-source-repositories-heading">
                <li>
  <a class="HeaderMenu-dropdown-link lh-condensed d-block no-underline position-relative py-2 Link--secondary" data-analytics-event="{&quot;category&quot;:&quot;Header dropdown (logged out), Open Source&quot;,&quot;action&quot;:&quot;click to go to Topics&quot;,&quot;label&quot;:&quot;ref_cta:Topics;&quot;}" href="/topics">
      Topics

    
</a></li>

                <li>
  <a class="HeaderMenu-dropdown-link lh-condensed d-block no-underline position-relative py-2 Link--secondary" data-analytics-event="{&quot;category&quot;:&quot;Header dropdown (logged out), Open Source&quot;,&quot;action&quot;:&quot;click to go to Trending&quot;,&quot;label&quot;:&quot;ref_cta:Trending;&quot;}" href="/trending">
      Trending

    
</a></li>

                <li>
  <a class="HeaderMenu-dropdown-link lh-condensed d-block no-underline position-relative py-2 Link--secondary" data-analytics-event="{&quot;category&quot;:&quot;Header dropdown (logged out), Open Source&quot;,&quot;action&quot;:&quot;click to go to Collections&quot;,&quot;label&quot;:&quot;ref_cta:Collections;&quot;}" href="/collections">
      Collections

    
</a></li>

            </ul>
          </div>
      </div>
</li>


                <li class="HeaderMenu-item position-relative flex-wrap flex-justify-between flex-items-center d-block d-lg-flex flex-lg-nowrap flex-lg-items-center js-details-container js-header-menu-item">
    <a class="HeaderMenu-link no-underline px-0 px-lg-2 py-3 py-lg-2 d-block d-lg-inline-block" data-analytics-event="{&quot;category&quot;:&quot;Header menu top item (logged out)&quot;,&quot;action&quot;:&quot;click to go to Pricing&quot;,&quot;label&quot;:&quot;ref_cta:Pricing;&quot;}" href="/pricing">Pricing</a>
</li>

            </ul>
          </nav>

        <div class="d-lg-flex flex-items-center mb-3 mb-lg-0 text-center text-lg-left ml-3" style="">
                


<qbsearch-input class="search-input" data-scope="repo:ayeayekaizouku/Paatshala" data-custom-scopes-path="/search/custom_scopes" data-delete-custom-scopes-csrf="Q_NM5oBvcQqd3rdI-ePNwTSKVMAqgHH_5OKjJbRot7WO28YNnkYojWNS7J5yTFKYO8zx7kE9j-ZpijaHSNcHkw" data-max-custom-scopes="10" data-header-redesign-enabled="false" data-initial-value="" data-blackbird-suggestions-path="/search/suggestions" data-jump-to-suggestions-path="/_graphql/GetSuggestedNavigationDestinations" data-current-repository="ayeayekaizouku/Paatshala" data-current-org="" data-current-owner="ayeayekaizouku" data-logged-in="false">
  <div
    class="search-input-container search-with-dialog position-relative d-flex flex-row flex-items-center mr-4 rounded"
    data-action="click:qbsearch-input#searchInputContainerClicked"
  >
      <button
        type="button"
        class="header-search-button placeholder  input-button form-control d-flex flex-1 flex-self-stretch flex-items-center no-wrap width-full py-0 pl-2 pr-0 text-left border-0 box-shadow-none"
        data-target="qbsearch-input.inputButton"
        placeholder="Search or jump to..."
        data-hotkey=s,/
        autocapitalize="off"
        data-action="click:qbsearch-input#handleExpand"
      >
        <div class="mr-2 color-fg-muted">
          <svg aria-hidden="true" height="16" viewBox="0 0 16 16" version="1.1" width="16" data-view-component="true" class="octicon octicon-search">
    <path d="M10.68 11.74a6 6 0 0 1-7.922-8.982 6 6 0 0 1 8.982 7.922l3.04 3.04a.749.749 0 0 1-.326 1.275.749.749 0 0 1-.734-.215ZM11.5 7a4.499 4.499 0 1 0-8.997 0A4.499 4.499 0 0 0 11.5 7Z"></path>
</svg>
        </div>
        <span class="flex-1" data-target="qbsearch-input.inputButtonText">Search or jump to...</span>
          <div class="d-flex" data-target="qbsearch-input.hotkeyIndicator">
            <svg xmlns="http://www.w3.org/2000/svg" width="22" height="20" aria-hidden="true" class="mr-1"><path fill="none" stroke="#979A9C" opacity=".4" d="M3.5.5h12c1.7 0 3 1.3 3 3v13c0 1.7-1.3 3-3 3h-12c-1.7 0-3-1.3-3-3v-13c0-1.7 1.3-3 3-3z"></path><path fill="#979A9C" d="M11.8 6L8 15.1h-.9L10.8 6h1z"></path></svg>

          </div>
      </button>

    <input type="hidden" name="type" class="js-site-search-type-field">

    
<div class="Overlay--hidden " data-modal-dialog-overlay>
  <modal-dialog data-action="close:qbsearch-input#handleClose cancel:qbsearch-input#handleClose" data-target="qbsearch-input.searchSuggestionsDialog" role="dialog" id="search-suggestions-dialog" aria-modal="true" aria-labelledby="search-suggestions-dialog-header" data-view-component="true" class="Overlay Overlay--width-large Overlay--height-auto">
      <h1 id="search-suggestions-dialog-header" class="sr-only">Search code, repositories, users, issues, pull requests...</h1>
    <div class="Overlay-body Overlay-body--paddingNone">
      
          <div data-view-component="true">        <div class="search-suggestions position-fixed width-full color-shadow-large border color-fg-default color-bg-default overflow-hidden d-flex flex-column query-builder-container"
          style="border-radius: 12px;"
          data-target="qbsearch-input.queryBuilderContainer"
          hidden
        >
          <!-- '"` --><!-- </textarea></xmp> --></option></form><form id="query-builder-test-form" action="" accept-charset="UTF-8" method="get">
  <query-builder data-target="qbsearch-input.queryBuilder" id="query-builder-query-builder-test" data-filter-key=":" data-view-component="true" class="QueryBuilder search-query-builder">
    <div class="FormControl FormControl--fullWidth">
      <label id="query-builder-test-label" for="query-builder-test" class="FormControl-label sr-only">
        Search
      </label>
      <div class="QueryBuilder-StyledInput width-fit" data-target="query-builder.styledInput">
          <span id="query-builder-test-leadingvisual-wrap" class="FormControl-input-leadingVisualWrap QueryBuilder-leadingVisualWrap">
            <svg aria-hidden="true" height="16" viewBox="0 0 16 16" version="1.1" width="16" data-view-component="true" class="octicon octicon-search FormControl-input-leadingVisual">
    <path d="M10.68 11.74a6 6 0 0 1-7.922-8.982 6 6 0 0 1 8.982 7.922l3.04 3.04a.749.749 0 0 1-.326 1.275.749.749 0 0 1-.734-.215ZM11.5 7a4.499 4.499 0 1 0-8.997 0A4.499 4.499 0 0 0 11.5 7Z"></path>
</svg>
          </span>
        <div data-target="query-builder.styledInputContainer" class="QueryBuilder-StyledInputContainer">
          <div
            aria-hidden="true"
            class="QueryBuilder-StyledInputContent"
            data-target="query-builder.styledInputContent"
          ></div>
          <div class="QueryBuilder-InputWrapper">
            <div aria-hidden="true" class="QueryBuilder-Sizer" data-target="query-builder.sizer"></div>
            <input id="query-builder-test" name="query-builder-test" value="" autocomplete="off" type="text" role="combobox" spellcheck="false" aria-expanded="false" data-target="query-builder.input" data-action="
          input:query-builder#inputChange
          blur:query-builder#inputBlur
          keydown:query-builder#inputKeydown
          focus:query-builder#inputFocus
        " data-view-component="true" class="FormControl-input QueryBuilder-Input FormControl-medium" />
          </div>
        </div>
          <span class="sr-only" id="query-builder-test-clear">Clear</span>
          
  <button role="button" id="query-builder-test-clear-button" aria-labelledby="query-builder-test-clear query-builder-test-label" data-target="query-builder.clearButton" data-action="
                click:query-builder#clear
                focus:query-builder#clearButtonFocus
                blur:query-builder#clearButtonBlur
              " variant="small" hidden="hidden" type="button" data-view-component="true" class="Button Button--iconOnly Button--invisible Button--medium mr-1 px-2 py-0 d-flex flex-items-center rounded-1 color-fg-muted">    <svg aria-hidden="true" height="16" viewBox="0 0 16 16" version="1.1" width="16" data-view-component="true" class="octicon octicon-x-circle-fill Button-visual">
    <path d="M2.343 13.657A8 8 0 1 1 13.658 2.343 8 8 0 0 1 2.343 13.657ZM6.03 4.97a.751.751 0 0 0-1.042.018.751.751 0 0 0-.018 1.042L6.94 8 4.97 9.97a.749.749 0 0 0 .326 1.275.749.749 0 0 0 .734-.215L8 9.06l1.97 1.97a.749.749 0 0 0 1.275-.326.749.749 0 0 0-.215-.734L9.06 8l1.97-1.97a.749.749 0 0 0-.326-1.275.749.749 0 0 0-.734.215L8 6.94Z"></path>
</svg>
</button>  

      </div>
      <template id="search-icon">
  <svg aria-hidden="true" height="16" viewBox="0 0 16 16" version="1.1" width="16" data-view-component="true" class="octicon octicon-search">
    <path d="M10.68 11.74a6 6 0 0 1-7.922-8.982 6 6 0 0 1 8.982 7.922l3.04 3.04a.749.749 0 0 1-.326 1.275.749.749 0 0 1-.734-.215ZM11.5 7a4.499 4.499 0 1 0-8.997 0A4.499 4.499 0 0 0 11.5 7Z"></path>
</svg>
</template>

<template id="code-icon">
  <svg aria-hidden="true" height="16" viewBox="0 0 16 16" version="1.1" width="16" data-view-component="true" class="octicon octicon-code">
    <path d="m11.28 3.22 4.25 4.25a.75.75 0 0 1 0 1.06l-4.25 4.25a.749.749 0 0 1-1.275-.326.749.749 0 0 1 .215-.734L13.94 8l-3.72-3.72a.749.749 0 0 1 .326-1.275.749.749 0 0 1 .734.215Zm-6.56 0a.751.751 0 0 1 1.042.018.751.751 0 0 1 .018 1.042L2.06 8l3.72 3.72a.749.749 0 0 1-.326 1.275.749.749 0 0 1-.734-.215L.47 8.53a.75.75 0 0 1 0-1.06Z"></path>
</svg>
</template>

<template id="file-code-icon">
  <svg aria-hidden="true" height="16" viewBox="0 0 16 16" version="1.1" width="16" data-view-component="true" class="octicon octicon-file-code">
    <path d="M4 1.75C4 .784 4.784 0 5.75 0h5.586c.464 0 .909.184 1.237.513l2.914 2.914c.329.328.513.773.513 1.237v8.586A1.75 1.75 0 0 1 14.25 15h-9a.75.75 0 0 1 0-1.5h9a.25.25 0 0 0 .25-.25V6h-2.75A1.75 1.75 0 0 1 10 4.25V1.5H5.75a.25.25 0 0 0-.25.25v2.5a.75.75 0 0 1-1.5 0Zm1.72 4.97a.75.75 0 0 1 1.06 0l2 2a.75.75 0 0 1 0 1.06l-2 2a.749.749 0 0 1-1.275-.326.749.749 0 0 1 .215-.734l1.47-1.47-1.47-1.47a.75.75 0 0 1 0-1.06ZM3.28 7.78 1.81 9.25l1.47 1.47a.751.751 0 0 1-.018 1.042.751.751 0 0 1-1.042.018l-2-2a.75.75 0 0 1 0-1.06l2-2a.751.751 0 0 1 1.042.018.751.751 0 0 1 .018 1.042Zm8.22-6.218V4.25c0 .138.112.25.25.25h2.688l-.011-.013-2.914-2.914-.013-.011Z"></path>
</svg>
</template>

<template id="history-icon">
  <svg aria-hidden="true" height="16" viewBox="0 0 16 16" version="1.1" width="16" data-view-component="true" class="octicon octicon-history">
    <path d="m.427 1.927 1.215 1.215a8.002 8.002 0 1 1-1.6 5.685.75.75 0 1 1 1.493-.154 6.5 6.5 0 1 0 1.18-4.458l1.358 1.358A.25.25 0 0 1 3.896 6H.25A.25.25 0 0 1 0 5.75V2.104a.25.25 0 0 1 .427-.177ZM7.75 4a.75.75 0 0 1 .75.75v2.992l2.028.812a.75.75 0 0 1-.557 1.392l-2.5-1A.751.751 0 0 1 7 8.25v-3.5A.75.75 0 0 1 7.75 4Z"></path>
</svg>
</template>

<template id="repo-icon">
  <svg aria-hidden="true" height="16" viewBox="0 0 16 16" version="1.1" width="16" data-view-component="true" class="octicon octicon-repo">
    <path d="M2 2.5A2.5 2.5 0 0 1 4.5 0h8.75a.75.75 0 0 1 .75.75v12.5a.75.75 0 0 1-.75.75h-2.5a.75.75 0 0 1 0-1.5h1.75v-2h-8a1 1 0 0 0-.714 1.7.75.75 0 1 1-1.072 1.05A2.495 2.495 0 0 1 2 11.5Zm10.5-1h-8a1 1 0 0 0-1 1v6.708A2.486 2.486 0 0 1 4.5 9h8ZM5 12.25a.25.25 0 0 1 .25-.25h3.5a.25.25 0 0 1 .25.25v3.25a.25.25 0 0 1-.4.2l-1.45-1.087a.249.249 0 0 0-.3 0L5.4 15.7a.25.25 0 0 1-.4-.2Z"></path>
</svg>
</template>

<template id="bookmark-icon">
  <svg aria-hidden="true" height="16" viewBox="0 0 16 16" version="1.1" width="16" data-view-component="true" class="octicon octicon-bookmark">
    <path d="M3 2.75C3 1.784 3.784 1 4.75 1h6.5c.966 0 1.75.784 1.75 1.75v11.5a.75.75 0 0 1-1.227.579L8 11.722l-3.773 3.107A.751.751 0 0 1 3 14.25Zm1.75-.25a.25.25 0 0 0-.25.25v9.91l3.023-2.489a.75.75 0 0 1 .954 0l3.023 2.49V2.75a.25.25 0 0 0-.25-.25Z"></path>
</svg>
</template>

<template id="plus-circle-icon">
  <svg aria-hidden="true" height="16" viewBox="0 0 16 16" version="1.1" width="16" data-view-component="true" class="octicon octicon-plus-circle">
    <path d="M8 0a8 8 0 1 1 0 16A8 8 0 0 1 8 0ZM1.5 8a6.5 6.5 0 1 0 13 0 6.5 6.5 0 0 0-13 0Zm7.25-3.25v2.5h2.5a.75.75 0 0 1 0 1.5h-2.5v2.5a.75.75 0 0 1-1.5 0v-2.5h-2.5a.75.75 0 0 1 0-1.5h2.5v-2.5a.75.75 0 0 1 1.5 0Z"></path>
</svg>
</template>

<template id="circle-icon">
  <svg aria-hidden="true" height="16" viewBox="0 0 16 16" version="1.1" width="16" data-view-component="true" class="octicon octicon-dot-fill">
    <path d="M8 4a4 4 0 1 1 0 8 4 4 0 0 1 0-8Z"></path>
</svg>
</template>

<template id="trash-icon">
  <svg aria-hidden="true" height="16" viewBox="0 0 16 16" version="1.1" width="16" data-view-component="true" class="octicon octicon-trash">
    <path d="M11 1.75V3h2.25a.75.75 0 0 1 0 1.5H2.75a.75.75 0 0 1 0-1.5H5V1.75C5 .784 5.784 0 6.75 0h2.5C10.216 0 11 .784 11 1.75ZM4.496 6.675l.66 6.6a.25.25 0 0 0 .249.225h5.19a.25.25 0 0 0 .249-.225l.66-6.6a.75.75 0 0 1 1.492.149l-.66 6.6A1.748 1.748 0 0 1 10.595 15h-5.19a1.75 1.75 0 0 1-1.741-1.575l-.66-6.6a.75.75 0 1 1 1.492-.15ZM6.5 1.75V3h3V1.75a.25.25 0 0 0-.25-.25h-2.5a.25.25 0 0 0-.25.25Z"></path>
</svg>
</template>

<template id="team-icon">
  <svg aria-hidden="true" height="16" viewBox="0 0 16 16" version="1.1" width="16" data-view-component="true" class="octicon octicon-people">
    <path d="M2 5.5a3.5 3.5 0 1 1 5.898 2.549 5.508 5.508 0 0 1 3.034 4.084.75.75 0 1 1-1.482.235 4 4 0 0 0-7.9 0 .75.75 0 0 1-1.482-.236A5.507 5.507 0 0 1 3.102 8.05 3.493 3.493 0 0 1 2 5.5ZM11 4a3.001 3.001 0 0 1 2.22 5.018 5.01 5.01 0 0 1 2.56 3.012.749.749 0 0 1-.885.954.752.752 0 0 1-.549-.514 3.507 3.507 0 0 0-2.522-2.372.75.75 0 0 1-.574-.73v-.352a.75.75 0 0 1 .416-.672A1.5 1.5 0 0 0 11 5.5.75.75 0 0 1 11 4Zm-5.5-.5a2 2 0 1 0-.001 3.999A2 2 0 0 0 5.5 3.5Z"></path>
</svg>
</template>

<template id="project-icon">
  <svg aria-hidden="true" height="16" viewBox="0 0 16 16" version="1.1" width="16" data-view-component="true" class="octicon octicon-project">
    <path d="M1.75 0h12.5C15.216 0 16 .784 16 1.75v12.5A1.75 1.75 0 0 1 14.25 16H1.75A1.75 1.75 0 0 1 0 14.25V1.75C0 .784.784 0 1.75 0ZM1.5 1.75v12.5c0 .138.112.25.25.25h12.5a.25.25 0 0 0 .25-.25V1.75a.25.25 0 0 0-.25-.25H1.75a.25.25 0 0 0-.25.25ZM11.75 3a.75.75 0 0 1 .75.75v7.5a.75.75 0 0 1-1.5 0v-7.5a.75.75 0 0 1 .75-.75Zm-8.25.75a.75.75 0 0 1 1.5 0v5.5a.75.75 0 0 1-1.5 0ZM8 3a.75.75 0 0 1 .75.75v3.5a.75.75 0 0 1-1.5 0v-3.5A.75.75 0 0 1 8 3Z"></path>
</svg>
</template>

<template id="pencil-icon">
  <svg aria-hidden="true" height="16" viewBox="0 0 16 16" version="1.1" width="16" data-view-component="true" class="octicon octicon-pencil">
    <path d="M11.013 1.427a1.75 1.75 0 0 1 2.474 0l1.086 1.086a1.75 1.75 0 0 1 0 2.474l-8.61 8.61c-.21.21-.47.364-.756.445l-3.251.93a.75.75 0 0 1-.927-.928l.929-3.25c.081-.286.235-.547.445-.758l8.61-8.61Zm.176 4.823L9.75 4.81l-6.286 6.287a.253.253 0 0 0-.064.108l-.558 1.953 1.953-.558a.253.253 0 0 0 .108-.064Zm1.238-3.763a.25.25 0 0 0-.354 0L10.811 3.75l1.439 1.44 1.263-1.263a.25.25 0 0 0 0-.354Z"></path>
</svg>
</template>

        <div class="position-relative">
                <ul
                  role="listbox"
                  class="ActionListWrap QueryBuilder-ListWrap"
                  aria-label="Suggestions"
                  data-action="
                    combobox-commit:query-builder#comboboxCommit
                    mousedown:query-builder#resultsMousedown
                  "
                  data-target="query-builder.resultsList"
                  data-persist-list=false
                  id="query-builder-test-results"
                ></ul>
        </div>
    </div>
    <div data-target="query-builder.screenReaderFeedback" aria-live="polite" aria-atomic="true" class="sr-only"></div>
</query-builder></form>
          <div class="d-flex flex-row color-fg-muted px-3 text-small color-bg-default search-feedback-prompt">
            <a target="_blank" href="https://docs.github.com/en/search-github/github-code-search/understanding-github-code-search-syntax" data-view-component="true" class="Link color-fg-accent text-normal ml-2">
              Search syntax tips
</a>            <div class="d-flex flex-1"></div>
          </div>
        </div>
</div>

    </div>
</modal-dialog></div>
  </div>
  <div data-action="click:qbsearch-input#retract" class="dark-backdrop position-fixed" hidden data-target="qbsearch-input.darkBackdrop"></div>
  <div class="color-fg-default">
    
<div class="Overlay--hidden Overlay-backdrop--center" data-modal-dialog-overlay>
  <modal-dialog data-target="qbsearch-input.feedbackDialog" data-action="close:qbsearch-input#handleDialogClose cancel:qbsearch-input#handleDialogClose" role="dialog" id="feedback-dialog" aria-modal="true" aria-disabled="true" aria-describedby="feedback-dialog-title feedback-dialog-description" data-view-component="true" class="Overlay Overlay-whenNarrow Overlay--size-medium Overlay--motion-scaleFade">
    <div data-view-component="true" class="Overlay-header">
  <div class="Overlay-headerContentWrap">
    <div class="Overlay-titleWrap">
      <h1 class="Overlay-title " id="feedback-dialog-title">
        Provide feedback
      </h1>
    </div>
    <div class="Overlay-actionWrap">
      <button data-close-dialog-id="feedback-dialog" aria-label="Close" type="button" data-view-component="true" class="close-button Overlay-closeButton"><svg aria-hidden="true" height="16" viewBox="0 0 16 16" version="1.1" width="16" data-view-component="true" class="octicon octicon-x">
    <path d="M3.72 3.72a.75.75 0 0 1 1.06 0L8 6.94l3.22-3.22a.749.749 0 0 1 1.275.326.749.749 0 0 1-.215.734L9.06 8l3.22 3.22a.749.749 0 0 1-.326 1.275.749.749 0 0 1-.734-.215L8 9.06l-3.22 3.22a.751.751 0 0 1-1.042-.018.751.751 0 0 1-.018-1.042L6.94 8 3.72 4.78a.75.75 0 0 1 0-1.06Z"></path>
</svg></button>
    </div>
  </div>
</div>
      <div data-view-component="true" class="Overlay-body">        <!-- '"` --><!-- </textarea></xmp> --></option></form><form id="code-search-feedback-form" data-turbo="false" action="/search/feedback" accept-charset="UTF-8" method="post"><input type="hidden" data-csrf="true" name="authenticity_token" value="RwihIzIx/GGG6PPOU1egbdw4lhk+icyi24CVOmKsLrAcf1inLzYFj1jk7XJ+8I0Z/F5MEjDPlCDY/AmZniCT1A==" />
          <p>We read every piece of feedback, and take your input very seriously.</p>
          <textarea name="feedback" class="form-control width-full mb-2" style="height: 120px" id="feedback"></textarea>
          <input name="include_email" id="include_email" aria-label="Include my email address so I can be contacted" class="form-control mr-2" type="checkbox">
          <label for="include_email" style="font-weight: normal">Include my email address so I can be contacted</label>
</form></div>
      <div data-view-component="true" class="Overlay-footer Overlay-footer--alignEnd">          <button data-close-dialog-id="feedback-dialog" type="button" data-view-component="true" class="btn">    Cancel
</button>
          <button form="code-search-feedback-form" data-action="click:qbsearch-input#submitFeedback" type="submit" data-view-component="true" class="btn-primary btn">    Submit feedback
</button>
</div>
</modal-dialog></div>

    <custom-scopes data-target="qbsearch-input.customScopesManager">
    
<div class="Overlay--hidden Overlay-backdrop--center" data-modal-dialog-overlay>
  <modal-dialog data-target="custom-scopes.customScopesModalDialog" data-action="close:qbsearch-input#handleDialogClose cancel:qbsearch-input#handleDialogClose" role="dialog" id="custom-scopes-dialog" aria-modal="true" aria-disabled="true" aria-describedby="custom-scopes-dialog-title custom-scopes-dialog-description" data-view-component="true" class="Overlay Overlay-whenNarrow Overlay--size-medium Overlay--motion-scaleFade">
    <div data-view-component="true" class="Overlay-header Overlay-header--divided">
  <div class="Overlay-headerContentWrap">
    <div class="Overlay-titleWrap">
      <h1 class="Overlay-title " id="custom-scopes-dialog-title">
        Saved searches
      </h1>
        <h2 id="custom-scopes-dialog-description" class="Overlay-description">Use saved searches to filter your results more quickly</h2>
    </div>
    <div class="Overlay-actionWrap">
      <button data-close-dialog-id="custom-scopes-dialog" aria-label="Close" type="button" data-view-component="true" class="close-button Overlay-closeButton"><svg aria-hidden="true" height="16" viewBox="0 0 16 16" version="1.1" width="16" data-view-component="true" class="octicon octicon-x">
    <path d="M3.72 3.72a.75.75 0 0 1 1.06 0L8 6.94l3.22-3.22a.749.749 0 0 1 1.275.326.749.749 0 0 1-.215.734L9.06 8l3.22 3.22a.749.749 0 0 1-.326 1.275.749.749 0 0 1-.734-.215L8 9.06l-3.22 3.22a.751.751 0 0 1-1.042-.018.751.751 0 0 1-.018-1.042L6.94 8 3.72 4.78a.75.75 0 0 1 0-1.06Z"></path>
</svg></button>
    </div>
  </div>
</div>
      <div data-view-component="true" class="Overlay-body">        <div data-target="custom-scopes.customScopesModalDialogFlash"></div>

        <div hidden class="create-custom-scope-form" data-target="custom-scopes.createCustomScopeForm">
        <!-- '"` --><!-- </textarea></xmp> --></option></form><form id="custom-scopes-dialog-form" data-turbo="false" action="/search/custom_scopes" accept-charset="UTF-8" method="post"><input type="hidden" data-csrf="true" name="authenticity_token" value="8zGbPMFSmX7XARf6zW/3CoMMw16ThPmYzTIC8fNz+NIeEP1F7uQe9UwpBoesPUnGv+3Xu/eOjOUHOzQM8xmLyA==" />
          <div data-target="custom-scopes.customScopesModalDialogFlash"></div>

          <input type="hidden" id="custom_scope_id" name="custom_scope_id" data-target="custom-scopes.customScopesIdField">

          <div class="form-group">
            <label for="custom_scope_name">Name</label>
            <auto-check src="/search/custom_scopes/check_name" required>
              <input
                type="text"
                name="custom_scope_name"
                id="custom_scope_name"
                data-target="custom-scopes.customScopesNameField"
                class="form-control"
                autocomplete="off"
                placeholder="github-ruby"
                required
                maxlength="50">
              <input type="hidden" data-csrf="true" value="+JtlIcUgnVa4YH0jsAerpTubHj70hhMPXJMHkAaqmX/x+DCiDaFu6u2WkYanUFp5EXF+2GECvFT8eTIPqZXSJQ==" />
            </auto-check>
          </div>

          <div class="form-group">
            <label for="custom_scope_query">Query</label>
            <input
              type="text"
              name="custom_scope_query"
              id="custom_scope_query"
              data-target="custom-scopes.customScopesQueryField"
              class="form-control"
              autocomplete="off"
              placeholder="(repo:mona/a OR repo:mona/b) AND lang:python"
              required
              maxlength="500">
          </div>

          <p class="text-small color-fg-muted">
            To see all available qualifiers, see our <a href="https://docs.github.com/en/search-github/github-code-search/understanding-github-code-search-syntax">documentation</a>.
          </p>
</form>        </div>

        <div data-target="custom-scopes.manageCustomScopesForm">
          <div data-target="custom-scopes.list"></div>
        </div>

</div>
      <div data-view-component="true" class="Overlay-footer Overlay-footer--alignEnd Overlay-footer--divided">          <button data-action="click:custom-scopes#customScopesCancel" type="button" data-view-component="true" class="btn">    Cancel
</button>
          <button form="custom-scopes-dialog-form" data-action="click:custom-scopes#customScopesSubmit" data-target="custom-scopes.customScopesSubmitButton" type="submit" data-view-component="true" class="btn-primary btn">    Create saved search
</button>
</div>
</modal-dialog></div>
    </custom-scopes>
  </div>
</qbsearch-input><input type="hidden" data-csrf="true" class="js-data-jump-to-suggestions-path-csrf" value="i5aJoIC3LqIc+spDlbou0svCHKOxRN1+agy/AHT+IhHPVpQqvAvOiujiMbNddwCT1cJauyMiOB/Qm/LIzX0gQA==" />


          <div class="position-relative mr-lg-3 d-lg-inline-block">
            <a href="/login?return_to=https%3A%2F%2Fgithub.com%2Fayeayekaizouku%2FPaatshala%2Fblob%2Fmain%2FMeasures%2520of%2520Central%2520Tendency%2520and%2520Dispersion.ipynb"
              class="HeaderMenu-link HeaderMenu-link--sign-in flex-shrink-0 no-underline d-block d-lg-inline-block border border-lg-0 rounded rounded-lg-0 p-2 p-lg-0"
              data-hydro-click="{&quot;event_type&quot;:&quot;authentication.click&quot;,&quot;payload&quot;:{&quot;location_in_page&quot;:&quot;site header menu&quot;,&quot;repository_id&quot;:null,&quot;auth_type&quot;:&quot;SIGN_UP&quot;,&quot;originating_url&quot;:&quot;https://github.com/ayeayekaizouku/Paatshala/blob/main/Measures%20of%20Central%20Tendency%20and%20Dispersion.ipynb&quot;,&quot;user_id&quot;:null}}" data-hydro-click-hmac="d170eb2b7db7394783cd89b1b0f9f71eb4e7bdd008ba6ea862213eb97b514b70"
              data-ga-click="(Logged out) Header, clicked Sign in, text:sign-in">
              Sign in
            </a>
          </div>

            <a href="/signup?ref_cta=Sign+up&amp;ref_loc=header+logged+out&amp;ref_page=%2F%3Cuser-name%3E%2F%3Crepo-name%3E%2Fblob%2Fshow&amp;source=header-repo&amp;source_repo=ayeayekaizouku%2FPaatshala"
              class="HeaderMenu-link HeaderMenu-link--sign-up flex-shrink-0 d-none d-lg-inline-block no-underline border color-border-default rounded px-2 py-1"
              data-hydro-click="{&quot;event_type&quot;:&quot;authentication.click&quot;,&quot;payload&quot;:{&quot;location_in_page&quot;:&quot;site header menu&quot;,&quot;repository_id&quot;:null,&quot;auth_type&quot;:&quot;SIGN_UP&quot;,&quot;originating_url&quot;:&quot;https://github.com/ayeayekaizouku/Paatshala/blob/main/Measures%20of%20Central%20Tendency%20and%20Dispersion.ipynb&quot;,&quot;user_id&quot;:null}}" data-hydro-click-hmac="d170eb2b7db7394783cd89b1b0f9f71eb4e7bdd008ba6ea862213eb97b514b70"
              data-analytics-event="{&quot;category&quot;:&quot;Sign up&quot;,&quot;action&quot;:&quot;click to sign up for account&quot;,&quot;label&quot;:&quot;ref_page:/&lt;user-name&gt;/&lt;repo-name&gt;/blob/show;ref_cta:Sign up;ref_loc:header logged out&quot;}"
            >
              Sign up
            </a>
        </div>
      </div>
    </div>
  </div>
</header>

      <div hidden="hidden" data-view-component="true" class="js-stale-session-flash flash flash-warn mb-3">
  
        <svg aria-hidden="true" height="16" viewBox="0 0 16 16" version="1.1" width="16" data-view-component="true" class="octicon octicon-alert">
    <path d="M6.457 1.047c.659-1.234 2.427-1.234 3.086 0l6.082 11.378A1.75 1.75 0 0 1 14.082 15H1.918a1.75 1.75 0 0 1-1.543-2.575Zm1.763.707a.25.25 0 0 0-.44 0L1.698 13.132a.25.25 0 0 0 .22.368h12.164a.25.25 0 0 0 .22-.368Zm.53 3.996v2.5a.75.75 0 0 1-1.5 0v-2.5a.75.75 0 0 1 1.5 0ZM9 11a1 1 0 1 1-2 0 1 1 0 0 1 2 0Z"></path>
</svg>
        <span class="js-stale-session-flash-signed-in" hidden>You signed in with another tab or window. <a href="">Reload</a> to refresh your session.</span>
        <span class="js-stale-session-flash-signed-out" hidden>You signed out in another tab or window. <a href="">Reload</a> to refresh your session.</span>
        <span class="js-stale-session-flash-switched" hidden>You switched accounts on another tab or window. <a href="">Reload</a> to refresh your session.</span>

    <button class="flash-close js-flash-close" type="button" aria-label="Close">
      <svg aria-hidden="true" height="16" viewBox="0 0 16 16" version="1.1" width="16" data-view-component="true" class="octicon octicon-x">
    <path d="M3.72 3.72a.75.75 0 0 1 1.06 0L8 6.94l3.22-3.22a.749.749 0 0 1 1.275.326.749.749 0 0 1-.215.734L9.06 8l3.22 3.22a.749.749 0 0 1-.326 1.275.749.749 0 0 1-.734-.215L8 9.06l-3.22 3.22a.751.751 0 0 1-1.042-.018.751.751 0 0 1-.018-1.042L6.94 8 3.72 4.78a.75.75 0 0 1 0-1.06Z"></path>
</svg>
    </button>

  
</div>
    </div>

  <div id="start-of-content" class="show-on-focus"></div>








    <div id="js-flash-container" data-turbo-replace>





  <template class="js-flash-template">
    
<div class="flash flash-full   {{ className }}">
  <div class="px-2" >
    <button autofocus class="flash-close js-flash-close" type="button" aria-label="Dismiss this message">
      <svg aria-hidden="true" height="16" viewBox="0 0 16 16" version="1.1" width="16" data-view-component="true" class="octicon octicon-x">
    <path d="M3.72 3.72a.75.75 0 0 1 1.06 0L8 6.94l3.22-3.22a.749.749 0 0 1 1.275.326.749.749 0 0 1-.215.734L9.06 8l3.22 3.22a.749.749 0 0 1-.326 1.275.749.749 0 0 1-.734-.215L8 9.06l-3.22 3.22a.751.751 0 0 1-1.042-.018.751.751 0 0 1-.018-1.042L6.94 8 3.72 4.78a.75.75 0 0 1 0-1.06Z"></path>
</svg>
    </button>
    <div aria-atomic="true" role="alert" class="js-flash-alert">
      
      <div>{{ message }}</div>

    </div>
  </div>
</div>
  </template>
</div>


    
    <include-fragment class="js-notification-shelf-include-fragment" data-base-src="https://github.com/notifications/beta/shelf"></include-fragment>






  <div
    class="application-main "
    data-commit-hovercards-enabled
    data-discussion-hovercards-enabled
    data-issue-and-pr-hovercards-enabled
  >
        <div itemscope itemtype="http://schema.org/SoftwareSourceCode" class="">
    <main id="js-repo-pjax-container" >
      
      






  
  <div id="repository-container-header"  class="pt-3 hide-full-screen" style="background-color: var(--color-page-header-bg);" data-turbo-replace>

      <div class="d-flex flex-wrap flex-justify-end mb-3  px-3 px-md-4 px-lg-5" style="gap: 1rem;">

        <div class="flex-auto min-width-0 width-fit mr-3">
            
  <div class=" d-flex flex-wrap flex-items-center wb-break-word f3 text-normal">
      <svg aria-hidden="true" height="16" viewBox="0 0 16 16" version="1.1" width="16" data-view-component="true" class="octicon octicon-repo color-fg-muted mr-2">
    <path d="M2 2.5A2.5 2.5 0 0 1 4.5 0h8.75a.75.75 0 0 1 .75.75v12.5a.75.75 0 0 1-.75.75h-2.5a.75.75 0 0 1 0-1.5h1.75v-2h-8a1 1 0 0 0-.714 1.7.75.75 0 1 1-1.072 1.05A2.495 2.495 0 0 1 2 11.5Zm10.5-1h-8a1 1 0 0 0-1 1v6.708A2.486 2.486 0 0 1 4.5 9h8ZM5 12.25a.25.25 0 0 1 .25-.25h3.5a.25.25 0 0 1 .25.25v3.25a.25.25 0 0 1-.4.2l-1.45-1.087a.249.249 0 0 0-.3 0L5.4 15.7a.25.25 0 0 1-.4-.2Z"></path>
</svg>
    
    <span class="author flex-self-stretch" itemprop="author">
      <a class="url fn" rel="author" data-hovercard-type="user" data-hovercard-url="/users/ayeayekaizouku/hovercard" data-octo-click="hovercard-link-click" data-octo-dimensions="link_type:self" href="/ayeayekaizouku">
        ayeayekaizouku
</a>    </span>
    <span class="mx-1 flex-self-stretch color-fg-muted">/</span>
    <strong itemprop="name" class="mr-2 flex-self-stretch">
      <a data-pjax="#repo-content-pjax-container" data-turbo-frame="repo-content-turbo-frame" href="/ayeayekaizouku/Paatshala">Paatshala</a>
    </strong>

    <span></span><span class="Label Label--secondary v-align-middle mr-1">Public</span>
  </div>


        </div>

        <div id="repository-details-container" data-turbo-replace>
            <ul class="pagehead-actions flex-shrink-0 d-none d-md-inline" style="padding: 2px 0;">
    
      

  <li>
            <a href="/login?return_to=%2Fayeayekaizouku%2FPaatshala" rel="nofollow" data-hydro-click="{&quot;event_type&quot;:&quot;authentication.click&quot;,&quot;payload&quot;:{&quot;location_in_page&quot;:&quot;notification subscription menu watch&quot;,&quot;repository_id&quot;:null,&quot;auth_type&quot;:&quot;LOG_IN&quot;,&quot;originating_url&quot;:&quot;https://github.com/ayeayekaizouku/Paatshala/blob/main/Measures%20of%20Central%20Tendency%20and%20Dispersion.ipynb&quot;,&quot;user_id&quot;:null}}" data-hydro-click-hmac="4ff563f01552ea2720d522f9146d7c74e921f71b9d8cb70ab161331fc7b925b6" aria-label="You must be signed in to change notification settings" data-view-component="true" class="tooltipped tooltipped-s btn-sm btn">    <svg aria-hidden="true" height="16" viewBox="0 0 16 16" version="1.1" width="16" data-view-component="true" class="octicon octicon-bell mr-2">
    <path d="M8 16a2 2 0 0 0 1.985-1.75c.017-.137-.097-.25-.235-.25h-3.5c-.138 0-.252.113-.235.25A2 2 0 0 0 8 16ZM3 5a5 5 0 0 1 10 0v2.947c0 .05.015.098.042.139l1.703 2.555A1.519 1.519 0 0 1 13.482 13H2.518a1.516 1.516 0 0 1-1.263-2.36l1.703-2.554A.255.255 0 0 0 3 7.947Zm5-3.5A3.5 3.5 0 0 0 4.5 5v2.947c0 .346-.102.683-.294.97l-1.703 2.556a.017.017 0 0 0-.003.01l.001.006c0 .002.002.004.004.006l.006.004.007.001h10.964l.007-.001.006-.004.004-.006.001-.007a.017.017 0 0 0-.003-.01l-1.703-2.554a1.745 1.745 0 0 1-.294-.97V5A3.5 3.5 0 0 0 8 1.5Z"></path>
</svg>Notifications
</a>
  </li>

  <li>
          <a icon="repo-forked" id="fork-button" href="/login?return_to=%2Fayeayekaizouku%2FPaatshala" rel="nofollow" data-hydro-click="{&quot;event_type&quot;:&quot;authentication.click&quot;,&quot;payload&quot;:{&quot;location_in_page&quot;:&quot;repo details fork button&quot;,&quot;repository_id&quot;:612865492,&quot;auth_type&quot;:&quot;LOG_IN&quot;,&quot;originating_url&quot;:&quot;https://github.com/ayeayekaizouku/Paatshala/blob/main/Measures%20of%20Central%20Tendency%20and%20Dispersion.ipynb&quot;,&quot;user_id&quot;:null}}" data-hydro-click-hmac="1ef98ca7f93c05bd3b7c92d4c869783d16391d7828e72283232175f5eaa7d757" data-view-component="true" class="btn-sm btn">    <svg aria-hidden="true" height="16" viewBox="0 0 16 16" version="1.1" width="16" data-view-component="true" class="octicon octicon-repo-forked mr-2">
    <path d="M5 5.372v.878c0 .414.336.75.75.75h4.5a.75.75 0 0 0 .75-.75v-.878a2.25 2.25 0 1 1 1.5 0v.878a2.25 2.25 0 0 1-2.25 2.25h-1.5v2.128a2.251 2.251 0 1 1-1.5 0V8.5h-1.5A2.25 2.25 0 0 1 3.5 6.25v-.878a2.25 2.25 0 1 1 1.5 0ZM5 3.25a.75.75 0 1 0-1.5 0 .75.75 0 0 0 1.5 0Zm6.75.75a.75.75 0 1 0 0-1.5.75.75 0 0 0 0 1.5Zm-3 8.75a.75.75 0 1 0-1.5 0 .75.75 0 0 0 1.5 0Z"></path>
</svg>Fork
    <span id="repo-network-counter" data-pjax-replace="true" data-turbo-replace="true" title="0" data-view-component="true" class="Counter">0</span>
</a>
  </li>

  <li>
        <div data-view-component="true" class="BtnGroup d-flex">
        <a href="/login?return_to=%2Fayeayekaizouku%2FPaatshala" rel="nofollow" data-hydro-click="{&quot;event_type&quot;:&quot;authentication.click&quot;,&quot;payload&quot;:{&quot;location_in_page&quot;:&quot;star button&quot;,&quot;repository_id&quot;:612865492,&quot;auth_type&quot;:&quot;LOG_IN&quot;,&quot;originating_url&quot;:&quot;https://github.com/ayeayekaizouku/Paatshala/blob/main/Measures%20of%20Central%20Tendency%20and%20Dispersion.ipynb&quot;,&quot;user_id&quot;:null}}" data-hydro-click-hmac="4adca041bbb07c05f2bb55802c44e6cdeb62b9be256eb3dac73d070d47087523" aria-label="You must be signed in to star a repository" data-view-component="true" class="tooltipped tooltipped-s btn-sm btn BtnGroup-item">    <svg aria-hidden="true" height="16" viewBox="0 0 16 16" version="1.1" width="16" data-view-component="true" class="octicon octicon-star v-align-text-bottom d-inline-block mr-2">
    <path d="M8 .25a.75.75 0 0 1 .673.418l1.882 3.815 4.21.612a.75.75 0 0 1 .416 1.279l-3.046 2.97.719 4.192a.751.751 0 0 1-1.088.791L8 12.347l-3.766 1.98a.75.75 0 0 1-1.088-.79l.72-4.194L.818 6.374a.75.75 0 0 1 .416-1.28l4.21-.611L7.327.668A.75.75 0 0 1 8 .25Zm0 2.445L6.615 5.5a.75.75 0 0 1-.564.41l-3.097.45 2.24 2.184a.75.75 0 0 1 .216.664l-.528 3.084 2.769-1.456a.75.75 0 0 1 .698 0l2.77 1.456-.53-3.084a.75.75 0 0 1 .216-.664l2.24-2.183-3.096-.45a.75.75 0 0 1-.564-.41L8 2.694Z"></path>
</svg><span data-view-component="true" class="d-inline">
          Star
</span>          <span id="repo-stars-counter-star" aria-label="0 users starred this repository" data-singular-suffix="user starred this repository" data-plural-suffix="users starred this repository" data-turbo-replace="true" title="0" data-view-component="true" class="Counter js-social-count">0</span>
</a>        <button aria-label="You must be signed in to add this repository to a list" type="button" disabled="disabled" data-view-component="true" class="btn-sm btn BtnGroup-item px-2">    <svg aria-hidden="true" height="16" viewBox="0 0 16 16" version="1.1" width="16" data-view-component="true" class="octicon octicon-triangle-down">
    <path d="m4.427 7.427 3.396 3.396a.25.25 0 0 0 .354 0l3.396-3.396A.25.25 0 0 0 11.396 7H4.604a.25.25 0 0 0-.177.427Z"></path>
</svg>
</button></div>
  </li>


    

</ul>

        </div>
      </div>

        <div id="responsive-meta-container" data-turbo-replace>
</div>


          <nav data-pjax="#js-repo-pjax-container" aria-label="Repository" data-view-component="true" class="js-repo-nav js-sidenav-container-pjax js-responsive-underlinenav overflow-hidden UnderlineNav px-3 px-md-4 px-lg-5">

  <ul data-view-component="true" class="UnderlineNav-body list-style-none">
      <li data-view-component="true" class="d-inline-flex">
  <a id="code-tab" href="/ayeayekaizouku/Paatshala" data-tab-item="i0code-tab" data-selected-links="repo_source repo_downloads repo_commits repo_releases repo_tags repo_branches repo_packages repo_deployments /ayeayekaizouku/Paatshala" data-pjax="#repo-content-pjax-container" data-turbo-frame="repo-content-turbo-frame" data-hotkey="g c" data-analytics-event="{&quot;category&quot;:&quot;Underline navbar&quot;,&quot;action&quot;:&quot;Click tab&quot;,&quot;label&quot;:&quot;Code&quot;,&quot;target&quot;:&quot;UNDERLINE_NAV.TAB&quot;}" aria-current="page" data-view-component="true" class="UnderlineNav-item no-wrap js-responsive-underlinenav-item js-selected-navigation-item selected">
    
              <svg aria-hidden="true" height="16" viewBox="0 0 16 16" version="1.1" width="16" data-view-component="true" class="octicon octicon-code UnderlineNav-octicon d-none d-sm-inline">
    <path d="m11.28 3.22 4.25 4.25a.75.75 0 0 1 0 1.06l-4.25 4.25a.749.749 0 0 1-1.275-.326.749.749 0 0 1 .215-.734L13.94 8l-3.72-3.72a.749.749 0 0 1 .326-1.275.749.749 0 0 1 .734.215Zm-6.56 0a.751.751 0 0 1 1.042.018.751.751 0 0 1 .018 1.042L2.06 8l3.72 3.72a.749.749 0 0 1-.326 1.275.749.749 0 0 1-.734-.215L.47 8.53a.75.75 0 0 1 0-1.06Z"></path>
</svg>
        <span data-content="Code">Code</span>
          <span id="code-repo-tab-count" data-pjax-replace="" data-turbo-replace="" title="Not available" data-view-component="true" class="Counter"></span>


    
</a></li>
      <li data-view-component="true" class="d-inline-flex">
  <a id="issues-tab" href="/ayeayekaizouku/Paatshala/issues" data-tab-item="i1issues-tab" data-selected-links="repo_issues repo_labels repo_milestones /ayeayekaizouku/Paatshala/issues" data-pjax="#repo-content-pjax-container" data-turbo-frame="repo-content-turbo-frame" data-hotkey="g i" data-analytics-event="{&quot;category&quot;:&quot;Underline navbar&quot;,&quot;action&quot;:&quot;Click tab&quot;,&quot;label&quot;:&quot;Issues&quot;,&quot;target&quot;:&quot;UNDERLINE_NAV.TAB&quot;}" data-view-component="true" class="UnderlineNav-item no-wrap js-responsive-underlinenav-item js-selected-navigation-item">
    
              <svg aria-hidden="true" height="16" viewBox="0 0 16 16" version="1.1" width="16" data-view-component="true" class="octicon octicon-issue-opened UnderlineNav-octicon d-none d-sm-inline">
    <path d="M8 9.5a1.5 1.5 0 1 0 0-3 1.5 1.5 0 0 0 0 3Z"></path><path d="M8 0a8 8 0 1 1 0 16A8 8 0 0 1 8 0ZM1.5 8a6.5 6.5 0 1 0 13 0 6.5 6.5 0 0 0-13 0Z"></path>
</svg>
        <span data-content="Issues">Issues</span>
          <span id="issues-repo-tab-count" data-pjax-replace="" data-turbo-replace="" title="0" hidden="hidden" data-view-component="true" class="Counter">0</span>


    
</a></li>
      <li data-view-component="true" class="d-inline-flex">
  <a id="pull-requests-tab" href="/ayeayekaizouku/Paatshala/pulls" data-tab-item="i2pull-requests-tab" data-selected-links="repo_pulls checks /ayeayekaizouku/Paatshala/pulls" data-pjax="#repo-content-pjax-container" data-turbo-frame="repo-content-turbo-frame" data-hotkey="g p" data-analytics-event="{&quot;category&quot;:&quot;Underline navbar&quot;,&quot;action&quot;:&quot;Click tab&quot;,&quot;label&quot;:&quot;Pull requests&quot;,&quot;target&quot;:&quot;UNDERLINE_NAV.TAB&quot;}" data-view-component="true" class="UnderlineNav-item no-wrap js-responsive-underlinenav-item js-selected-navigation-item">
    
              <svg aria-hidden="true" height="16" viewBox="0 0 16 16" version="1.1" width="16" data-view-component="true" class="octicon octicon-git-pull-request UnderlineNav-octicon d-none d-sm-inline">
    <path d="M1.5 3.25a2.25 2.25 0 1 1 3 2.122v5.256a2.251 2.251 0 1 1-1.5 0V5.372A2.25 2.25 0 0 1 1.5 3.25Zm5.677-.177L9.573.677A.25.25 0 0 1 10 .854V2.5h1A2.5 2.5 0 0 1 13.5 5v5.628a2.251 2.251 0 1 1-1.5 0V5a1 1 0 0 0-1-1h-1v1.646a.25.25 0 0 1-.427.177L7.177 3.427a.25.25 0 0 1 0-.354ZM3.75 2.5a.75.75 0 1 0 0 1.5.75.75 0 0 0 0-1.5Zm0 9.5a.75.75 0 1 0 0 1.5.75.75 0 0 0 0-1.5Zm8.25.75a.75.75 0 1 0 1.5 0 .75.75 0 0 0-1.5 0Z"></path>
</svg>
        <span data-content="Pull requests">Pull requests</span>
          <span id="pull-requests-repo-tab-count" data-pjax-replace="" data-turbo-replace="" title="0" hidden="hidden" data-view-component="true" class="Counter">0</span>


    
</a></li>
      <li data-view-component="true" class="d-inline-flex">
  <a id="actions-tab" href="/ayeayekaizouku/Paatshala/actions" data-tab-item="i3actions-tab" data-selected-links="repo_actions /ayeayekaizouku/Paatshala/actions" data-pjax="#repo-content-pjax-container" data-turbo-frame="repo-content-turbo-frame" data-hotkey="g a" data-analytics-event="{&quot;category&quot;:&quot;Underline navbar&quot;,&quot;action&quot;:&quot;Click tab&quot;,&quot;label&quot;:&quot;Actions&quot;,&quot;target&quot;:&quot;UNDERLINE_NAV.TAB&quot;}" data-view-component="true" class="UnderlineNav-item no-wrap js-responsive-underlinenav-item js-selected-navigation-item">
    
              <svg aria-hidden="true" height="16" viewBox="0 0 16 16" version="1.1" width="16" data-view-component="true" class="octicon octicon-play UnderlineNav-octicon d-none d-sm-inline">
    <path d="M8 0a8 8 0 1 1 0 16A8 8 0 0 1 8 0ZM1.5 8a6.5 6.5 0 1 0 13 0 6.5 6.5 0 0 0-13 0Zm4.879-2.773 4.264 2.559a.25.25 0 0 1 0 .428l-4.264 2.559A.25.25 0 0 1 6 10.559V5.442a.25.25 0 0 1 .379-.215Z"></path>
</svg>
        <span data-content="Actions">Actions</span>
          <span id="actions-repo-tab-count" data-pjax-replace="" data-turbo-replace="" title="Not available" data-view-component="true" class="Counter"></span>


    
</a></li>
      <li data-view-component="true" class="d-inline-flex">
  <a id="projects-tab" href="/ayeayekaizouku/Paatshala/projects" data-tab-item="i4projects-tab" data-selected-links="repo_projects new_repo_project repo_project /ayeayekaizouku/Paatshala/projects" data-pjax="#repo-content-pjax-container" data-turbo-frame="repo-content-turbo-frame" data-hotkey="g b" data-analytics-event="{&quot;category&quot;:&quot;Underline navbar&quot;,&quot;action&quot;:&quot;Click tab&quot;,&quot;label&quot;:&quot;Projects&quot;,&quot;target&quot;:&quot;UNDERLINE_NAV.TAB&quot;}" data-view-component="true" class="UnderlineNav-item no-wrap js-responsive-underlinenav-item js-selected-navigation-item">
    
              <svg aria-hidden="true" height="16" viewBox="0 0 16 16" version="1.1" width="16" data-view-component="true" class="octicon octicon-table UnderlineNav-octicon d-none d-sm-inline">
    <path d="M0 1.75C0 .784.784 0 1.75 0h12.5C15.216 0 16 .784 16 1.75v12.5A1.75 1.75 0 0 1 14.25 16H1.75A1.75 1.75 0 0 1 0 14.25ZM6.5 6.5v8h7.75a.25.25 0 0 0 .25-.25V6.5Zm8-1.5V1.75a.25.25 0 0 0-.25-.25H6.5V5Zm-13 1.5v7.75c0 .138.112.25.25.25H5v-8ZM5 5V1.5H1.75a.25.25 0 0 0-.25.25V5Z"></path>
</svg>
        <span data-content="Projects">Projects</span>
          <span id="projects-repo-tab-count" data-pjax-replace="" data-turbo-replace="" title="0" hidden="hidden" data-view-component="true" class="Counter">0</span>


    
</a></li>
      <li data-view-component="true" class="d-inline-flex">
  <a id="security-tab" href="/ayeayekaizouku/Paatshala/security" data-tab-item="i5security-tab" data-selected-links="security overview alerts policy token_scanning code_scanning /ayeayekaizouku/Paatshala/security" data-pjax="#repo-content-pjax-container" data-turbo-frame="repo-content-turbo-frame" data-hotkey="g s" data-analytics-event="{&quot;category&quot;:&quot;Underline navbar&quot;,&quot;action&quot;:&quot;Click tab&quot;,&quot;label&quot;:&quot;Security&quot;,&quot;target&quot;:&quot;UNDERLINE_NAV.TAB&quot;}" data-view-component="true" class="UnderlineNav-item no-wrap js-responsive-underlinenav-item js-selected-navigation-item">
    
              <svg aria-hidden="true" height="16" viewBox="0 0 16 16" version="1.1" width="16" data-view-component="true" class="octicon octicon-shield UnderlineNav-octicon d-none d-sm-inline">
    <path d="M7.467.133a1.748 1.748 0 0 1 1.066 0l5.25 1.68A1.75 1.75 0 0 1 15 3.48V7c0 1.566-.32 3.182-1.303 4.682-.983 1.498-2.585 2.813-5.032 3.855a1.697 1.697 0 0 1-1.33 0c-2.447-1.042-4.049-2.357-5.032-3.855C1.32 10.182 1 8.566 1 7V3.48a1.75 1.75 0 0 1 1.217-1.667Zm.61 1.429a.25.25 0 0 0-.153 0l-5.25 1.68a.25.25 0 0 0-.174.238V7c0 1.358.275 2.666 1.057 3.86.784 1.194 2.121 2.34 4.366 3.297a.196.196 0 0 0 .154 0c2.245-.956 3.582-2.104 4.366-3.298C13.225 9.666 13.5 8.36 13.5 7V3.48a.251.251 0 0 0-.174-.237l-5.25-1.68ZM8.75 4.75v3a.75.75 0 0 1-1.5 0v-3a.75.75 0 0 1 1.5 0ZM9 10.5a1 1 0 1 1-2 0 1 1 0 0 1 2 0Z"></path>
</svg>
        <span data-content="Security">Security</span>
          <include-fragment src="/ayeayekaizouku/Paatshala/security/overall-count" accept="text/fragment+html"></include-fragment>

    
</a></li>
      <li data-view-component="true" class="d-inline-flex">
  <a id="insights-tab" href="/ayeayekaizouku/Paatshala/pulse" data-tab-item="i6insights-tab" data-selected-links="repo_graphs repo_contributors dependency_graph dependabot_updates pulse people community /ayeayekaizouku/Paatshala/pulse" data-pjax="#repo-content-pjax-container" data-turbo-frame="repo-content-turbo-frame" data-analytics-event="{&quot;category&quot;:&quot;Underline navbar&quot;,&quot;action&quot;:&quot;Click tab&quot;,&quot;label&quot;:&quot;Insights&quot;,&quot;target&quot;:&quot;UNDERLINE_NAV.TAB&quot;}" data-view-component="true" class="UnderlineNav-item no-wrap js-responsive-underlinenav-item js-selected-navigation-item">
    
              <svg aria-hidden="true" height="16" viewBox="0 0 16 16" version="1.1" width="16" data-view-component="true" class="octicon octicon-graph UnderlineNav-octicon d-none d-sm-inline">
    <path d="M1.5 1.75V13.5h13.75a.75.75 0 0 1 0 1.5H.75a.75.75 0 0 1-.75-.75V1.75a.75.75 0 0 1 1.5 0Zm14.28 2.53-5.25 5.25a.75.75 0 0 1-1.06 0L7 7.06 4.28 9.78a.751.751 0 0 1-1.042-.018.751.751 0 0 1-.018-1.042l3.25-3.25a.75.75 0 0 1 1.06 0L10 7.94l4.72-4.72a.751.751 0 0 1 1.042.018.751.751 0 0 1 .018 1.042Z"></path>
</svg>
        <span data-content="Insights">Insights</span>
          <span id="insights-repo-tab-count" data-pjax-replace="" data-turbo-replace="" title="Not available" data-view-component="true" class="Counter"></span>


    
</a></li>
</ul>
    <div style="visibility:hidden;" data-view-component="true" class="UnderlineNav-actions js-responsive-underlinenav-overflow position-absolute pr-3 pr-md-4 pr-lg-5 right-0">        <details data-view-component="true" class="details-overlay details-reset position-relative">
    <summary role="button" data-view-component="true">          <div class="UnderlineNav-item mr-0 border-0">
            <svg aria-hidden="true" height="16" viewBox="0 0 16 16" version="1.1" width="16" data-view-component="true" class="octicon octicon-kebab-horizontal">
    <path d="M8 9a1.5 1.5 0 1 0 0-3 1.5 1.5 0 0 0 0 3ZM1.5 9a1.5 1.5 0 1 0 0-3 1.5 1.5 0 0 0 0 3Zm13 0a1.5 1.5 0 1 0 0-3 1.5 1.5 0 0 0 0 3Z"></path>
</svg>
            <span class="sr-only">More</span>
          </div>
</summary>
    <details-menu role="menu" data-view-component="true" class="dropdown-menu dropdown-menu-sw">          <ul>
              <li data-menu-item="i0code-tab" hidden>
                <a role="menuitem" class="js-selected-navigation-item selected dropdown-item" aria-current="page" data-selected-links="repo_source repo_downloads repo_commits repo_releases repo_tags repo_branches repo_packages repo_deployments /ayeayekaizouku/Paatshala" href="/ayeayekaizouku/Paatshala">
                  Code
</a>              </li>
              <li data-menu-item="i1issues-tab" hidden>
                <a role="menuitem" class="js-selected-navigation-item dropdown-item" data-selected-links="repo_issues repo_labels repo_milestones /ayeayekaizouku/Paatshala/issues" href="/ayeayekaizouku/Paatshala/issues">
                  Issues
</a>              </li>
              <li data-menu-item="i2pull-requests-tab" hidden>
                <a role="menuitem" class="js-selected-navigation-item dropdown-item" data-selected-links="repo_pulls checks /ayeayekaizouku/Paatshala/pulls" href="/ayeayekaizouku/Paatshala/pulls">
                  Pull requests
</a>              </li>
              <li data-menu-item="i3actions-tab" hidden>
                <a role="menuitem" class="js-selected-navigation-item dropdown-item" data-selected-links="repo_actions /ayeayekaizouku/Paatshala/actions" href="/ayeayekaizouku/Paatshala/actions">
                  Actions
</a>              </li>
              <li data-menu-item="i4projects-tab" hidden>
                <a role="menuitem" class="js-selected-navigation-item dropdown-item" data-selected-links="repo_projects new_repo_project repo_project /ayeayekaizouku/Paatshala/projects" href="/ayeayekaizouku/Paatshala/projects">
                  Projects
</a>              </li>
              <li data-menu-item="i5security-tab" hidden>
                <a role="menuitem" class="js-selected-navigation-item dropdown-item" data-selected-links="security overview alerts policy token_scanning code_scanning /ayeayekaizouku/Paatshala/security" href="/ayeayekaizouku/Paatshala/security">
                  Security
</a>              </li>
              <li data-menu-item="i6insights-tab" hidden>
                <a role="menuitem" class="js-selected-navigation-item dropdown-item" data-selected-links="repo_graphs repo_contributors dependency_graph dependabot_updates pulse people community /ayeayekaizouku/Paatshala/pulse" href="/ayeayekaizouku/Paatshala/pulse">
                  Insights
</a>              </li>
          </ul>
</details-menu>
</details></div>
</nav>

  </div>

  



<turbo-frame id="repo-content-turbo-frame" target="_top" data-turbo-action="advance" class="">
    <div id="repo-content-pjax-container" class="repository-content " >
    


    
      
    





<react-app
  app-name="react-code-view"
  initial-path="/ayeayekaizouku/Paatshala/blob/main/Measures%20of%20Central%20Tendency%20and%20Dispersion.ipynb"
  style="min-height: calc(100vh - 62px)"
  data-ssr="false"
  data-lazy="false"
  data-alternate="false"
>
  
  <script type="application/json" data-target="react-app.embeddedData">{"payload":{"allShortcutsEnabled":false,"fileTree":{"":{"items":[{"name":"Case Study on Testing of Hypothesis.ipynb","path":"Case Study on Testing of Hypothesis.ipynb","contentType":"file"},{"name":"Jaco Binoy Assignment on Model Selection \u0026 Feature Engineering.ipynb","path":"Jaco Binoy Assignment on Model Selection \u0026 Feature Engineering.ipynb","contentType":"file"},{"name":"Jaco Binoy Virtual Competition 1.ipynb","path":"Jaco Binoy Virtual Competition 1.ipynb","contentType":"file"},{"name":"Jaco Binoy Virtual Competition 2.ipynb","path":"Jaco Binoy Virtual Competition 2.ipynb","contentType":"file"},{"name":"JacoBinoy Unsupervised Learning.ipynb","path":"JacoBinoy Unsupervised Learning.ipynb","contentType":"file"},{"name":"JacoBinoyAssign1.ipynb","path":"JacoBinoyAssign1.ipynb","contentType":"file"},{"name":"JacoBinoyCarAge.ipynb","path":"JacoBinoyCarAge.ipynb","contentType":"file"},{"name":"JacoBinoyClassification.ipynb","path":"JacoBinoyClassification.ipynb","contentType":"file"},{"name":"JacoBinoyPreprocessingAssignment.ipynb","path":"JacoBinoyPreprocessingAssignment.ipynb","contentType":"file"},{"name":"Measures of Central Tendency and Dispersion.ipynb","path":"Measures of Central Tendency and Dispersion.ipynb","contentType":"file"},{"name":"case study, diamonds.ipynb","path":"case study, diamonds.ipynb","contentType":"file"}],"totalCount":11}},"fileTreeProcessingTime":2.899316,"foldersToFetch":[],"reducedMotionEnabled":null,"repo":{"id":612865492,"defaultBranch":"main","name":"Paatshala","ownerLogin":"ayeayekaizouku","currentUserCanPush":false,"isFork":false,"isEmpty":false,"createdAt":"2023-03-12T07:57:00.000Z","ownerAvatar":"https://avatars.githubusercontent.com/u/86514261?v=4","public":true,"private":false,"isOrgOwned":false},"refInfo":{"name":"main","listCacheKey":"v0:1689691792.0","canEdit":false,"refType":"branch","currentOid":"ab1aab567aaf405961c4a344794752c4f9db05e9"},"path":"Measures of Central Tendency and Dispersion.ipynb","currentUser":null,"blob":{"rawLines":["{"," \"cells\": [","  {","   \"cell_type\": \"code\",","   \"execution_count\": 4,","   \"id\": \"58a4b3a6\",","   \"metadata\": {},","   \"outputs\": [],","   \"source\": [","    \"import numpy as np\\n\",","    \"import pandas as pd\\n\",","    \"import matplotlib.pyplot as plt\\n\",","    \"import seaborn as sns\"","   ]","  },","  {","   \"cell_type\": \"code\",","   \"execution_count\": 5,","   \"id\": \"bd11addc\",","   \"metadata\": {},","   \"outputs\": [],","   \"source\": [","    \"df= pd.read_csv('StudentsPerformance.csv')\"","   ]","  },","  {","   \"cell_type\": \"code\",","   \"execution_count\": 3,","   \"id\": \"98509299\",","   \"metadata\": {},","   \"outputs\": [","    {","     \"name\": \"stdout\",","     \"output_type\": \"stream\",","     \"text\": [","      \"\u003cclass 'pandas.core.frame.DataFrame'\u003e\\n\",","      \"RangeIndex: 1000 entries, 0 to 999\\n\",","      \"Data columns (total 8 columns):\\n\",","      \" #   Column                       Non-Null Count  Dtype \\n\",","      \"---  ------                       --------------  ----- \\n\",","      \" 0   gender                       1000 non-null   object\\n\",","      \" 1   race/ethnicity               1000 non-null   object\\n\",","      \" 2   parental level of education  1000 non-null   object\\n\",","      \" 3   lunch                        1000 non-null   object\\n\",","      \" 4   test preparation course      1000 non-null   object\\n\",","      \" 5   math score                   1000 non-null   int64 \\n\",","      \" 6   reading score                1000 non-null   int64 \\n\",","      \" 7   writing score                1000 non-null   int64 \\n\",","      \"dtypes: int64(3), object(5)\\n\",","      \"memory usage: 62.6+ KB\\n\"","     ]","    }","   ],","   \"source\": [","    \"df.info()\"","   ]","  },","  {","   \"cell_type\": \"code\",","   \"execution_count\": 5,","   \"id\": \"d6374eb4\",","   \"metadata\": {},","   \"outputs\": [","    {","     \"data\": {","      \"text/html\": [","       \"\u003cdiv\u003e\\n\",","       \"\u003cstyle scoped\u003e\\n\",","       \"    .dataframe tbody tr th:only-of-type {\\n\",","       \"        vertical-align: middle;\\n\",","       \"    }\\n\",","       \"\\n\",","       \"    .dataframe tbody tr th {\\n\",","       \"        vertical-align: top;\\n\",","       \"    }\\n\",","       \"\\n\",","       \"    .dataframe thead th {\\n\",","       \"        text-align: right;\\n\",","       \"    }\\n\",","       \"\u003c/style\u003e\\n\",","       \"\u003ctable border=\\\"1\\\" class=\\\"dataframe\\\"\u003e\\n\",","       \"  \u003cthead\u003e\\n\",","       \"    \u003ctr style=\\\"text-align: right;\\\"\u003e\\n\",","       \"      \u003cth\u003e\u003c/th\u003e\\n\",","       \"      \u003cth\u003emath score\u003c/th\u003e\\n\",","       \"      \u003cth\u003ereading score\u003c/th\u003e\\n\",","       \"      \u003cth\u003ewriting score\u003c/th\u003e\\n\",","       \"    \u003c/tr\u003e\\n\",","       \"  \u003c/thead\u003e\\n\",","       \"  \u003ctbody\u003e\\n\",","       \"    \u003ctr\u003e\\n\",","       \"      \u003cth\u003ecount\u003c/th\u003e\\n\",","       \"      \u003ctd\u003e1000.000000\u003c/td\u003e\\n\",","       \"      \u003ctd\u003e1000.000000\u003c/td\u003e\\n\",","       \"      \u003ctd\u003e1000.000000\u003c/td\u003e\\n\",","       \"    \u003c/tr\u003e\\n\",","       \"    \u003ctr\u003e\\n\",","       \"      \u003cth\u003emean\u003c/th\u003e\\n\",","       \"      \u003ctd\u003e66.001000\u003c/td\u003e\\n\",","       \"      \u003ctd\u003e69.195000\u003c/td\u003e\\n\",","       \"      \u003ctd\u003e68.119000\u003c/td\u003e\\n\",","       \"    \u003c/tr\u003e\\n\",","       \"    \u003ctr\u003e\\n\",","       \"      \u003cth\u003estd\u003c/th\u003e\\n\",","       \"      \u003ctd\u003e15.569567\u003c/td\u003e\\n\",","       \"      \u003ctd\u003e14.706436\u003c/td\u003e\\n\",","       \"      \u003ctd\u003e15.226381\u003c/td\u003e\\n\",","       \"    \u003c/tr\u003e\\n\",","       \"    \u003ctr\u003e\\n\",","       \"      \u003cth\u003emin\u003c/th\u003e\\n\",","       \"      \u003ctd\u003e0.000000\u003c/td\u003e\\n\",","       \"      \u003ctd\u003e17.000000\u003c/td\u003e\\n\",","       \"      \u003ctd\u003e10.000000\u003c/td\u003e\\n\",","       \"    \u003c/tr\u003e\\n\",","       \"    \u003ctr\u003e\\n\",","       \"      \u003cth\u003e25%\u003c/th\u003e\\n\",","       \"      \u003ctd\u003e57.000000\u003c/td\u003e\\n\",","       \"      \u003ctd\u003e59.000000\u003c/td\u003e\\n\",","       \"      \u003ctd\u003e58.000000\u003c/td\u003e\\n\",","       \"    \u003c/tr\u003e\\n\",","       \"    \u003ctr\u003e\\n\",","       \"      \u003cth\u003e50%\u003c/th\u003e\\n\",","       \"      \u003ctd\u003e66.000000\u003c/td\u003e\\n\",","       \"      \u003ctd\u003e70.000000\u003c/td\u003e\\n\",","       \"      \u003ctd\u003e69.000000\u003c/td\u003e\\n\",","       \"    \u003c/tr\u003e\\n\",","       \"    \u003ctr\u003e\\n\",","       \"      \u003cth\u003e75%\u003c/th\u003e\\n\",","       \"      \u003ctd\u003e77.000000\u003c/td\u003e\\n\",","       \"      \u003ctd\u003e79.250000\u003c/td\u003e\\n\",","       \"      \u003ctd\u003e79.000000\u003c/td\u003e\\n\",","       \"    \u003c/tr\u003e\\n\",","       \"    \u003ctr\u003e\\n\",","       \"      \u003cth\u003emax\u003c/th\u003e\\n\",","       \"      \u003ctd\u003e100.000000\u003c/td\u003e\\n\",","       \"      \u003ctd\u003e100.000000\u003c/td\u003e\\n\",","       \"      \u003ctd\u003e100.000000\u003c/td\u003e\\n\",","       \"    \u003c/tr\u003e\\n\",","       \"  \u003c/tbody\u003e\\n\",","       \"\u003c/table\u003e\\n\",","       \"\u003c/div\u003e\"","      ],","      \"text/plain\": [","       \"        math score  reading score  writing score\\n\",","       \"count  1000.000000    1000.000000    1000.000000\\n\",","       \"mean     66.001000      69.195000      68.119000\\n\",","       \"std      15.569567      14.706436      15.226381\\n\",","       \"min       0.000000      17.000000      10.000000\\n\",","       \"25%      57.000000      59.000000      58.000000\\n\",","       \"50%      66.000000      70.000000      69.000000\\n\",","       \"75%      77.000000      79.250000      79.000000\\n\",","       \"max     100.000000     100.000000     100.000000\"","      ]","     },","     \"execution_count\": 5,","     \"metadata\": {},","     \"output_type\": \"execute_result\"","    }","   ],","   \"source\": [","    \"df.describe()\"","   ]","  },","  {","   \"cell_type\": \"code\",","   \"execution_count\": 8,","   \"id\": \"d24110eb\",","   \"metadata\": {},","   \"outputs\": [","    {","     \"data\": {","      \"text/html\": [","       \"\u003cdiv\u003e\\n\",","       \"\u003cstyle scoped\u003e\\n\",","       \"    .dataframe tbody tr th:only-of-type {\\n\",","       \"        vertical-align: middle;\\n\",","       \"    }\\n\",","       \"\\n\",","       \"    .dataframe tbody tr th {\\n\",","       \"        vertical-align: top;\\n\",","       \"    }\\n\",","       \"\\n\",","       \"    .dataframe thead th {\\n\",","       \"        text-align: right;\\n\",","       \"    }\\n\",","       \"\u003c/style\u003e\\n\",","       \"\u003ctable border=\\\"1\\\" class=\\\"dataframe\\\"\u003e\\n\",","       \"  \u003cthead\u003e\\n\",","       \"    \u003ctr style=\\\"text-align: right;\\\"\u003e\\n\",","       \"      \u003cth\u003e\u003c/th\u003e\\n\",","       \"      \u003cth\u003egender\u003c/th\u003e\\n\",","       \"      \u003cth\u003erace/ethnicity\u003c/th\u003e\\n\",","       \"      \u003cth\u003eparental level of education\u003c/th\u003e\\n\",","       \"      \u003cth\u003elunch\u003c/th\u003e\\n\",","       \"      \u003cth\u003etest preparation course\u003c/th\u003e\\n\",","       \"      \u003cth\u003emath score\u003c/th\u003e\\n\",","       \"      \u003cth\u003ereading score\u003c/th\u003e\\n\",","       \"      \u003cth\u003ewriting score\u003c/th\u003e\\n\",","       \"    \u003c/tr\u003e\\n\",","       \"  \u003c/thead\u003e\\n\",","       \"  \u003ctbody\u003e\\n\",","       \"    \u003ctr\u003e\\n\",","       \"      \u003cth\u003e0\u003c/th\u003e\\n\",","       \"      \u003ctd\u003efemale\u003c/td\u003e\\n\",","       \"      \u003ctd\u003egroup C\u003c/td\u003e\\n\",","       \"      \u003ctd\u003esome high school\u003c/td\u003e\\n\",","       \"      \u003ctd\u003efree/reduced\u003c/td\u003e\\n\",","       \"      \u003ctd\u003enone\u003c/td\u003e\\n\",","       \"      \u003ctd\u003e0\u003c/td\u003e\\n\",","       \"      \u003ctd\u003e17\u003c/td\u003e\\n\",","       \"      \u003ctd\u003e10\u003c/td\u003e\\n\",","       \"    \u003c/tr\u003e\\n\",","       \"    \u003ctr\u003e\\n\",","       \"      \u003cth\u003e1\u003c/th\u003e\\n\",","       \"      \u003ctd\u003efemale\u003c/td\u003e\\n\",","       \"      \u003ctd\u003egroup B\u003c/td\u003e\\n\",","       \"      \u003ctd\u003ehigh school\u003c/td\u003e\\n\",","       \"      \u003ctd\u003efree/reduced\u003c/td\u003e\\n\",","       \"      \u003ctd\u003enone\u003c/td\u003e\\n\",","       \"      \u003ctd\u003e8\u003c/td\u003e\\n\",","       \"      \u003ctd\u003e24\u003c/td\u003e\\n\",","       \"      \u003ctd\u003e23\u003c/td\u003e\\n\",","       \"    \u003c/tr\u003e\\n\",","       \"    \u003ctr\u003e\\n\",","       \"      \u003cth\u003e2\u003c/th\u003e\\n\",","       \"      \u003ctd\u003efemale\u003c/td\u003e\\n\",","       \"      \u003ctd\u003egroup B\u003c/td\u003e\\n\",","       \"      \u003ctd\u003esome high school\u003c/td\u003e\\n\",","       \"      \u003ctd\u003efree/reduced\u003c/td\u003e\\n\",","       \"      \u003ctd\u003enone\u003c/td\u003e\\n\",","       \"      \u003ctd\u003e18\u003c/td\u003e\\n\",","       \"      \u003ctd\u003e32\u003c/td\u003e\\n\",","       \"      \u003ctd\u003e28\u003c/td\u003e\\n\",","       \"    \u003c/tr\u003e\\n\",","       \"    \u003ctr\u003e\\n\",","       \"      \u003cth\u003e3\u003c/th\u003e\\n\",","       \"      \u003ctd\u003efemale\u003c/td\u003e\\n\",","       \"      \u003ctd\u003egroup B\u003c/td\u003e\\n\",","       \"      \u003ctd\u003esome college\u003c/td\u003e\\n\",","       \"      \u003ctd\u003estandard\u003c/td\u003e\\n\",","       \"      \u003ctd\u003enone\u003c/td\u003e\\n\",","       \"      \u003ctd\u003e11\u003c/td\u003e\\n\",","       \"      \u003ctd\u003e38\u003c/td\u003e\\n\",","       \"      \u003ctd\u003e32\u003c/td\u003e\\n\",","       \"    \u003c/tr\u003e\\n\",","       \"    \u003ctr\u003e\\n\",","       \"      \u003cth\u003e4\u003c/th\u003e\\n\",","       \"      \u003ctd\u003efemale\u003c/td\u003e\\n\",","       \"      \u003ctd\u003egroup C\u003c/td\u003e\\n\",","       \"      \u003ctd\u003esome college\u003c/td\u003e\\n\",","       \"      \u003ctd\u003efree/reduced\u003c/td\u003e\\n\",","       \"      \u003ctd\u003enone\u003c/td\u003e\\n\",","       \"      \u003ctd\u003e22\u003c/td\u003e\\n\",","       \"      \u003ctd\u003e39\u003c/td\u003e\\n\",","       \"      \u003ctd\u003e33\u003c/td\u003e\\n\",","       \"    \u003c/tr\u003e\\n\",","       \"  \u003c/tbody\u003e\\n\",","       \"\u003c/table\u003e\\n\",","       \"\u003c/div\u003e\"","      ],","      \"text/plain\": [","       \"   gender race/ethnicity parental level of education         lunch  \\\\\\n\",","       \"0  female        group C            some high school  free/reduced   \\n\",","       \"1  female        group B                 high school  free/reduced   \\n\",","       \"2  female        group B            some high school  free/reduced   \\n\",","       \"3  female        group B                some college      standard   \\n\",","       \"4  female        group C                some college  free/reduced   \\n\",","       \"\\n\",","       \"  test preparation course  math score  reading score  writing score  \\n\",","       \"0                    none           0             17             10  \\n\",","       \"1                    none           8             24             23  \\n\",","       \"2                    none          18             32             28  \\n\",","       \"3                    none          11             38             32  \\n\",","       \"4                    none          22             39             33  \"","      ]","     },","     \"execution_count\": 8,","     \"metadata\": {},","     \"output_type\": \"execute_result\"","    }","   ],","   \"source\": [","    \"df.head()\"","   ]","  },","  {","   \"cell_type\": \"markdown\",","   \"id\": \"71f36dcb\",","   \"metadata\": {},","   \"source\": [","    \"###  Find out how many males and females participated in the test\"","   ]","  },","  {","   \"cell_type\": \"code\",","   \"execution_count\": 11,","   \"id\": \"d3a2a4b0\",","   \"metadata\": {},","   \"outputs\": [","    {","     \"data\": {","      \"text/plain\": [","       \"female    518\\n\",","       \"male      482\\n\",","       \"Name: gender, dtype: int64\"","      ]","     },","     \"execution_count\": 11,","     \"metadata\": {},","     \"output_type\": \"execute_result\"","    }","   ],","   \"source\": [","    \"df['gender'].value_counts()\"","   ]","  },","  {","   \"cell_type\": \"code\",","   \"execution_count\": 16,","   \"id\": \"7a95da99\",","   \"metadata\": {},","   \"outputs\": [","    {","     \"data\": {","      \"text/plain\": [","       \"some college          226\\n\",","       \"associate's degree    222\\n\",","       \"high school           196\\n\",","       \"some high school      179\\n\",","       \"bachelor's degree     118\\n\",","       \"master's degree        59\\n\",","       \"Name: parental level of education, dtype: int64\"","      ]","     },","     \"execution_count\": 16,","     \"metadata\": {},","     \"output_type\": \"execute_result\"","    }","   ],","   \"source\": [","    \" df['parental level of education'].value_counts()\"","   ]","  },","  {","   \"cell_type\": \"markdown\",","   \"id\": \"d6b03160\",","   \"metadata\": {},","   \"source\": [","    \"### What do you think about the students' parental level of education?\"","   ]","  },","  {","   \"cell_type\": \"code\",","   \"execution_count\": 25,","   \"id\": \"46d54334\",","   \"metadata\": {},","   \"outputs\": [","    {","     \"data\": {","      \"image/png\": \"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\\n\",","      \"text/plain\": [","       \"\u003cFigure size 576x432 with 1 Axes\u003e\"","      ]","     },","     \"metadata\": {","      \"needs_background\": \"light\"","     },","     \"output_type\": \"display_data\"","    }","   ],","   \"source\": [","    \"#to plot values_count\\n\",","    \"plt.figure(figsize=(8,6))\\n\",","    \"plt.title('Parental Level of Education')\\n\",","    \"plt.xlabel('Level of Education')\\n\",","    \"plt.ylabel('Count')\\n\",","    \"df['parental level of education'].value_counts().plot(kind='bar', color='purple')\\n\",","    \"plt.show()\"","   ]","  },","  {","   \"cell_type\": \"markdown\",","   \"id\": \"5465c7eb\",","   \"metadata\": {},","   \"source\": [","    \"Higher levels of education seem to be rarer after college\"","   ]","  },","  {","   \"cell_type\": \"markdown\",","   \"id\": \"01f6dd6c\",","   \"metadata\": {},","   \"source\": [","    \"###  Who scores the most on average for math, reading and writing based on\\n\",","    \"● Gender\\n\",","    \"● Test preparation course\"","   ]","  },","  {","   \"cell_type\": \"code\",","   \"execution_count\": 29,","   \"id\": \"0833fec8\",","   \"metadata\": {},","   \"outputs\": [","    {","     \"data\": {","      \"image/png\": \"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\\n\",","      \"text/plain\": [","       \"\u003cFigure size 864x432 with 3 Axes\u003e\"","      ]","     },","     \"metadata\": {","      \"needs_background\": \"light\"","     },","     \"output_type\": \"display_data\"","    }","   ],","   \"source\": [","    \"#create subplots\\n\",","    \"\\n\",","    \"plt.figure(figsize=(12,6))\\n\",","    \"plt.subplot(1,3,1)\\n\",","    \"sns.boxplot(x='gender', y='math score', data=df)\\n\",","    \"plt.title('Math Score')\\n\",","    \"plt.subplot(1,3,2)\\n\",","    \"sns.boxplot(x='gender', y='reading score', data=df)\\n\",","    \"plt.title('Reading Score')\\n\",","    \"plt.subplot(1,3,3)\\n\",","    \"sns.boxplot(x='gender', y='writing score', data=df)\\n\",","    \"plt.title('Writing Score')\\n\",","    \"plt.show()\"","   ]","  },","  {","   \"cell_type\": \"code\",","   \"execution_count\": 32,","   \"id\": \"9c417004\",","   \"metadata\": {},","   \"outputs\": [","    {","     \"data\": {","      \"text/html\": [","       \"\u003cdiv\u003e\\n\",","       \"\u003cstyle scoped\u003e\\n\",","       \"    .dataframe tbody tr th:only-of-type {\\n\",","       \"        vertical-align: middle;\\n\",","       \"    }\\n\",","       \"\\n\",","       \"    .dataframe tbody tr th {\\n\",","       \"        vertical-align: top;\\n\",","       \"    }\\n\",","       \"\\n\",","       \"    .dataframe thead th {\\n\",","       \"        text-align: right;\\n\",","       \"    }\\n\",","       \"\u003c/style\u003e\\n\",","       \"\u003ctable border=\\\"1\\\" class=\\\"dataframe\\\"\u003e\\n\",","       \"  \u003cthead\u003e\\n\",","       \"    \u003ctr style=\\\"text-align: right;\\\"\u003e\\n\",","       \"      \u003cth\u003e\u003c/th\u003e\\n\",","       \"      \u003cth\u003egender\u003c/th\u003e\\n\",","       \"      \u003cth\u003erace/ethnicity\u003c/th\u003e\\n\",","       \"      \u003cth\u003eparental level of education\u003c/th\u003e\\n\",","       \"      \u003cth\u003elunch\u003c/th\u003e\\n\",","       \"      \u003cth\u003etest preparation course\u003c/th\u003e\\n\",","       \"      \u003cth\u003emath score\u003c/th\u003e\\n\",","       \"      \u003cth\u003ereading score\u003c/th\u003e\\n\",","       \"      \u003cth\u003ewriting score\u003c/th\u003e\\n\",","       \"    \u003c/tr\u003e\\n\",","       \"  \u003c/thead\u003e\\n\",","       \"  \u003ctbody\u003e\\n\",","       \"    \u003ctr\u003e\\n\",","       \"      \u003cth\u003e0\u003c/th\u003e\\n\",","       \"      \u003ctd\u003efemale\u003c/td\u003e\\n\",","       \"      \u003ctd\u003egroup C\u003c/td\u003e\\n\",","       \"      \u003ctd\u003esome high school\u003c/td\u003e\\n\",","       \"      \u003ctd\u003efree/reduced\u003c/td\u003e\\n\",","       \"      \u003ctd\u003enone\u003c/td\u003e\\n\",","       \"      \u003ctd\u003e0\u003c/td\u003e\\n\",","       \"      \u003ctd\u003e17\u003c/td\u003e\\n\",","       \"      \u003ctd\u003e10\u003c/td\u003e\\n\",","       \"    \u003c/tr\u003e\\n\",","       \"    \u003ctr\u003e\\n\",","       \"      \u003cth\u003e1\u003c/th\u003e\\n\",","       \"      \u003ctd\u003efemale\u003c/td\u003e\\n\",","       \"      \u003ctd\u003egroup B\u003c/td\u003e\\n\",","       \"      \u003ctd\u003ehigh school\u003c/td\u003e\\n\",","       \"      \u003ctd\u003efree/reduced\u003c/td\u003e\\n\",","       \"      \u003ctd\u003enone\u003c/td\u003e\\n\",","       \"      \u003ctd\u003e8\u003c/td\u003e\\n\",","       \"      \u003ctd\u003e24\u003c/td\u003e\\n\",","       \"      \u003ctd\u003e23\u003c/td\u003e\\n\",","       \"    \u003c/tr\u003e\\n\",","       \"    \u003ctr\u003e\\n\",","       \"      \u003cth\u003e2\u003c/th\u003e\\n\",","       \"      \u003ctd\u003efemale\u003c/td\u003e\\n\",","       \"      \u003ctd\u003egroup B\u003c/td\u003e\\n\",","       \"      \u003ctd\u003esome high school\u003c/td\u003e\\n\",","       \"      \u003ctd\u003efree/reduced\u003c/td\u003e\\n\",","       \"      \u003ctd\u003enone\u003c/td\u003e\\n\",","       \"      \u003ctd\u003e18\u003c/td\u003e\\n\",","       \"      \u003ctd\u003e32\u003c/td\u003e\\n\",","       \"      \u003ctd\u003e28\u003c/td\u003e\\n\",","       \"    \u003c/tr\u003e\\n\",","       \"    \u003ctr\u003e\\n\",","       \"      \u003cth\u003e3\u003c/th\u003e\\n\",","       \"      \u003ctd\u003efemale\u003c/td\u003e\\n\",","       \"      \u003ctd\u003egroup B\u003c/td\u003e\\n\",","       \"      \u003ctd\u003esome college\u003c/td\u003e\\n\",","       \"      \u003ctd\u003estandard\u003c/td\u003e\\n\",","       \"      \u003ctd\u003enone\u003c/td\u003e\\n\",","       \"      \u003ctd\u003e11\u003c/td\u003e\\n\",","       \"      \u003ctd\u003e38\u003c/td\u003e\\n\",","       \"      \u003ctd\u003e32\u003c/td\u003e\\n\",","       \"    \u003c/tr\u003e\\n\",","       \"    \u003ctr\u003e\\n\",","       \"      \u003cth\u003e4\u003c/th\u003e\\n\",","       \"      \u003ctd\u003efemale\u003c/td\u003e\\n\",","       \"      \u003ctd\u003egroup C\u003c/td\u003e\\n\",","       \"      \u003ctd\u003esome college\u003c/td\u003e\\n\",","       \"      \u003ctd\u003efree/reduced\u003c/td\u003e\\n\",","       \"      \u003ctd\u003enone\u003c/td\u003e\\n\",","       \"      \u003ctd\u003e22\u003c/td\u003e\\n\",","       \"      \u003ctd\u003e39\u003c/td\u003e\\n\",","       \"      \u003ctd\u003e33\u003c/td\u003e\\n\",","       \"    \u003c/tr\u003e\\n\",","       \"  \u003c/tbody\u003e\\n\",","       \"\u003c/table\u003e\\n\",","       \"\u003c/div\u003e\"","      ],","      \"text/plain\": [","       \"   gender race/ethnicity parental level of education         lunch  \\\\\\n\",","       \"0  female        group C            some high school  free/reduced   \\n\",","       \"1  female        group B                 high school  free/reduced   \\n\",","       \"2  female        group B            some high school  free/reduced   \\n\",","       \"3  female        group B                some college      standard   \\n\",","       \"4  female        group C                some college  free/reduced   \\n\",","       \"\\n\",","       \"  test preparation course  math score  reading score  writing score  \\n\",","       \"0                    none           0             17             10  \\n\",","       \"1                    none           8             24             23  \\n\",","       \"2                    none          18             32             28  \\n\",","       \"3                    none          11             38             32  \\n\",","       \"4                    none          22             39             33  \"","      ]","     },","     \"execution_count\": 32,","     \"metadata\": {},","     \"output_type\": \"execute_result\"","    }","   ],","   \"source\": [","    \"df.head()\"","   ]","  },","  {","   \"cell_type\": \"code\",","   \"execution_count\": 33,","   \"id\": \"092c4b35\",","   \"metadata\": {},","   \"outputs\": [","    {","     \"data\": {","      \"image/png\": \"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\\n\",","      \"text/plain\": [","       \"\u003cFigure size 864x432 with 3 Axes\u003e\"","      ]","     },","     \"metadata\": {","      \"needs_background\": \"light\"","     },","     \"output_type\": \"display_data\"","    }","   ],","   \"source\": [","    \"plt.figure(figsize=(12,6))\\n\",","    \"plt.subplot(1,3,1)\\n\",","    \"sns.boxplot(x='test preparation course', y='math score', data=df)\\n\",","    \"plt.title('Math Score')\\n\",","    \"plt.subplot(1,3,2)\\n\",","    \"sns.boxplot(x='test preparation course', y='reading score', data=df)\\n\",","    \"plt.title('Reading Score')\\n\",","    \"plt.subplot(1,3,3)\\n\",","    \"sns.boxplot(x='test preparation course', y='writing score', data=df)\\n\",","    \"plt.title('Writing Score')\\n\",","    \"plt.show()\"","   ]","  },","  {","   \"cell_type\": \"markdown\",","   \"id\": \"ffc7b572\",","   \"metadata\": {},","   \"source\": [","    \"Females score more in avg than males in writing and reading, but males score more in \\n\",","    \"avg in maths.\\n\",","    \"\\n\",","    \"Completed test preparation course students score more in average than students having no test preparation course\"","   ]","  },","  {","   \"cell_type\": \"markdown\",","   \"id\": \"1611732b\",","   \"metadata\": {},","   \"source\": [","    \"###  What do you think about the scoring variation for math, reading and writing based on\\n\",","    \"● Gender\\n\",","    \"● Test preparation course\"","   ]","  },","  {","   \"cell_type\": \"markdown\",","   \"id\": \"f4746743\",","   \"metadata\": {},","   \"source\": [","    \"Higher scoring variation for math for females than males, and higher variation for writing and reading for males than females.\\n\",","    \"\\n\",","    \"Higher scoring variation for all subjects when students no test preparation course compared to students who have completed the course.\"","   ]","  },","  {","   \"cell_type\": \"markdown\",","   \"id\": \"407c7381\",","   \"metadata\": {},","   \"source\": [","    \"### The management needs your help to give bonus points to the top 25% of students based on their math score, so how will you help the management to achieve this\"","   ]","  },","  {","   \"cell_type\": \"code\",","   \"execution_count\": 2,","   \"id\": \"b7ef61a5\",","   \"metadata\": {},","   \"outputs\": [","    {","     \"name\": \"stdout\",","     \"output_type\": \"stream\",","     \"text\": [","      \"Enter value of bonus points: 5\\n\"","     ]","    }","   ],","   \"source\": [","    \"bonus= int(input('Enter value of bonus points: '))\"","   ]","  },","  {","   \"cell_type\": \"code\",","   \"execution_count\": 7,","   \"id\": \"3fc54259\",","   \"metadata\": {},","   \"outputs\": [],","   \"source\": [","    \"#take 75th percentile of math score\\n\",","    \"q= df['math score'].quantile(0.75)\"","   ]","  },","  {","   \"cell_type\": \"code\",","   \"execution_count\": 17,","   \"id\": \"0b1e6080\",","   \"metadata\": {},","   \"outputs\": [],","   \"source\": [","    \"#adding points, to each mathscore of the df\\n\",","    \"df.loc[df['math score']\u003e=q, 'math score'] +=bonus\"","   ]","  },","  {","   \"cell_type\": \"code\",","   \"execution_count\": 18,","   \"id\": \"5c5d43f9\",","   \"metadata\": {},","   \"outputs\": [","    {","     \"data\": {","      \"text/html\": [","       \"\u003cdiv\u003e\\n\",","       \"\u003cstyle scoped\u003e\\n\",","       \"    .dataframe tbody tr th:only-of-type {\\n\",","       \"        vertical-align: middle;\\n\",","       \"    }\\n\",","       \"\\n\",","       \"    .dataframe tbody tr th {\\n\",","       \"        vertical-align: top;\\n\",","       \"    }\\n\",","       \"\\n\",","       \"    .dataframe thead th {\\n\",","       \"        text-align: right;\\n\",","       \"    }\\n\",","       \"\u003c/style\u003e\\n\",","       \"\u003ctable border=\\\"1\\\" class=\\\"dataframe\\\"\u003e\\n\",","       \"  \u003cthead\u003e\\n\",","       \"    \u003ctr style=\\\"text-align: right;\\\"\u003e\\n\",","       \"      \u003cth\u003e\u003c/th\u003e\\n\",","       \"      \u003cth\u003egender\u003c/th\u003e\\n\",","       \"      \u003cth\u003erace/ethnicity\u003c/th\u003e\\n\",","       \"      \u003cth\u003eparental level of education\u003c/th\u003e\\n\",","       \"      \u003cth\u003elunch\u003c/th\u003e\\n\",","       \"      \u003cth\u003etest preparation course\u003c/th\u003e\\n\",","       \"      \u003cth\u003emath score\u003c/th\u003e\\n\",","       \"      \u003cth\u003ereading score\u003c/th\u003e\\n\",","       \"      \u003cth\u003ewriting score\u003c/th\u003e\\n\",","       \"    \u003c/tr\u003e\\n\",","       \"  \u003c/thead\u003e\\n\",","       \"  \u003ctbody\u003e\\n\",","       \"    \u003ctr\u003e\\n\",","       \"      \u003cth\u003e0\u003c/th\u003e\\n\",","       \"      \u003ctd\u003efemale\u003c/td\u003e\\n\",","       \"      \u003ctd\u003egroup C\u003c/td\u003e\\n\",","       \"      \u003ctd\u003esome high school\u003c/td\u003e\\n\",","       \"      \u003ctd\u003efree/reduced\u003c/td\u003e\\n\",","       \"      \u003ctd\u003enone\u003c/td\u003e\\n\",","       \"      \u003ctd\u003e0\u003c/td\u003e\\n\",","       \"      \u003ctd\u003e17\u003c/td\u003e\\n\",","       \"      \u003ctd\u003e10\u003c/td\u003e\\n\",","       \"    \u003c/tr\u003e\\n\",","       \"    \u003ctr\u003e\\n\",","       \"      \u003cth\u003e1\u003c/th\u003e\\n\",","       \"      \u003ctd\u003efemale\u003c/td\u003e\\n\",","       \"      \u003ctd\u003egroup B\u003c/td\u003e\\n\",","       \"      \u003ctd\u003ehigh school\u003c/td\u003e\\n\",","       \"      \u003ctd\u003efree/reduced\u003c/td\u003e\\n\",","       \"      \u003ctd\u003enone\u003c/td\u003e\\n\",","       \"      \u003ctd\u003e8\u003c/td\u003e\\n\",","       \"      \u003ctd\u003e24\u003c/td\u003e\\n\",","       \"      \u003ctd\u003e23\u003c/td\u003e\\n\",","       \"    \u003c/tr\u003e\\n\",","       \"    \u003ctr\u003e\\n\",","       \"      \u003cth\u003e2\u003c/th\u003e\\n\",","       \"      \u003ctd\u003efemale\u003c/td\u003e\\n\",","       \"      \u003ctd\u003egroup B\u003c/td\u003e\\n\",","       \"      \u003ctd\u003esome high school\u003c/td\u003e\\n\",","       \"      \u003ctd\u003efree/reduced\u003c/td\u003e\\n\",","       \"      \u003ctd\u003enone\u003c/td\u003e\\n\",","       \"      \u003ctd\u003e18\u003c/td\u003e\\n\",","       \"      \u003ctd\u003e32\u003c/td\u003e\\n\",","       \"      \u003ctd\u003e28\u003c/td\u003e\\n\",","       \"    \u003c/tr\u003e\\n\",","       \"    \u003ctr\u003e\\n\",","       \"      \u003cth\u003e3\u003c/th\u003e\\n\",","       \"      \u003ctd\u003efemale\u003c/td\u003e\\n\",","       \"      \u003ctd\u003egroup B\u003c/td\u003e\\n\",","       \"      \u003ctd\u003esome college\u003c/td\u003e\\n\",","       \"      \u003ctd\u003estandard\u003c/td\u003e\\n\",","       \"      \u003ctd\u003enone\u003c/td\u003e\\n\",","       \"      \u003ctd\u003e11\u003c/td\u003e\\n\",","       \"      \u003ctd\u003e38\u003c/td\u003e\\n\",","       \"      \u003ctd\u003e32\u003c/td\u003e\\n\",","       \"    \u003c/tr\u003e\\n\",","       \"    \u003ctr\u003e\\n\",","       \"      \u003cth\u003e4\u003c/th\u003e\\n\",","       \"      \u003ctd\u003efemale\u003c/td\u003e\\n\",","       \"      \u003ctd\u003egroup C\u003c/td\u003e\\n\",","       \"      \u003ctd\u003esome college\u003c/td\u003e\\n\",","       \"      \u003ctd\u003efree/reduced\u003c/td\u003e\\n\",","       \"      \u003ctd\u003enone\u003c/td\u003e\\n\",","       \"      \u003ctd\u003e22\u003c/td\u003e\\n\",","       \"      \u003ctd\u003e39\u003c/td\u003e\\n\",","       \"      \u003ctd\u003e33\u003c/td\u003e\\n\",","       \"    \u003c/tr\u003e\\n\",","       \"    \u003ctr\u003e\\n\",","       \"      \u003cth\u003e...\u003c/th\u003e\\n\",","       \"      \u003ctd\u003e...\u003c/td\u003e\\n\",","       \"      \u003ctd\u003e...\u003c/td\u003e\\n\",","       \"      \u003ctd\u003e...\u003c/td\u003e\\n\",","       \"      \u003ctd\u003e...\u003c/td\u003e\\n\",","       \"      \u003ctd\u003e...\u003c/td\u003e\\n\",","       \"      \u003ctd\u003e...\u003c/td\u003e\\n\",","       \"      \u003ctd\u003e...\u003c/td\u003e\\n\",","       \"      \u003ctd\u003e...\u003c/td\u003e\\n\",","       \"    \u003c/tr\u003e\\n\",","       \"    \u003ctr\u003e\\n\",","       \"      \u003cth\u003e995\u003c/th\u003e\\n\",","       \"      \u003ctd\u003emale\u003c/td\u003e\\n\",","       \"      \u003ctd\u003egroup E\u003c/td\u003e\\n\",","       \"      \u003ctd\u003esome college\u003c/td\u003e\\n\",","       \"      \u003ctd\u003estandard\u003c/td\u003e\\n\",","       \"      \u003ctd\u003ecompleted\u003c/td\u003e\\n\",","       \"      \u003ctd\u003e114\u003c/td\u003e\\n\",","       \"      \u003ctd\u003e87\u003c/td\u003e\\n\",","       \"      \u003ctd\u003e81\u003c/td\u003e\\n\",","       \"    \u003c/tr\u003e\\n\",","       \"    \u003ctr\u003e\\n\",","       \"      \u003cth\u003e996\u003c/th\u003e\\n\",","       \"      \u003ctd\u003emale\u003c/td\u003e\\n\",","       \"      \u003ctd\u003egroup A\u003c/td\u003e\\n\",","       \"      \u003ctd\u003esome college\u003c/td\u003e\\n\",","       \"      \u003ctd\u003estandard\u003c/td\u003e\\n\",","       \"      \u003ctd\u003ecompleted\u003c/td\u003e\\n\",","       \"      \u003ctd\u003e115\u003c/td\u003e\\n\",","       \"      \u003ctd\u003e96\u003c/td\u003e\\n\",","       \"      \u003ctd\u003e86\u003c/td\u003e\\n\",","       \"    \u003c/tr\u003e\\n\",","       \"    \u003ctr\u003e\\n\",","       \"      \u003cth\u003e997\u003c/th\u003e\\n\",","       \"      \u003ctd\u003emale\u003c/td\u003e\\n\",","       \"      \u003ctd\u003egroup D\u003c/td\u003e\\n\",","       \"      \u003ctd\u003esome college\u003c/td\u003e\\n\",","       \"      \u003ctd\u003estandard\u003c/td\u003e\\n\",","       \"      \u003ctd\u003ecompleted\u003c/td\u003e\\n\",","       \"      \u003ctd\u003e115\u003c/td\u003e\\n\",","       \"      \u003ctd\u003e97\u003c/td\u003e\\n\",","       \"      \u003ctd\u003e99\u003c/td\u003e\\n\",","       \"    \u003c/tr\u003e\\n\",","       \"    \u003ctr\u003e\\n\",","       \"      \u003cth\u003e998\u003c/th\u003e\\n\",","       \"      \u003ctd\u003emale\u003c/td\u003e\\n\",","       \"      \u003ctd\u003egroup E\u003c/td\u003e\\n\",","       \"      \u003ctd\u003eassociate's degree\u003c/td\u003e\\n\",","       \"      \u003ctd\u003efree/reduced\u003c/td\u003e\\n\",","       \"      \u003ctd\u003ecompleted\u003c/td\u003e\\n\",","       \"      \u003ctd\u003e115\u003c/td\u003e\\n\",","       \"      \u003ctd\u003e100\u003c/td\u003e\\n\",","       \"      \u003ctd\u003e93\u003c/td\u003e\\n\",","       \"    \u003c/tr\u003e\\n\",","       \"    \u003ctr\u003e\\n\",","       \"      \u003cth\u003e999\u003c/th\u003e\\n\",","       \"      \u003ctd\u003emale\u003c/td\u003e\\n\",","       \"      \u003ctd\u003egroup E\u003c/td\u003e\\n\",","       \"      \u003ctd\u003ebachelor's degree\u003c/td\u003e\\n\",","       \"      \u003ctd\u003estandard\u003c/td\u003e\\n\",","       \"      \u003ctd\u003ecompleted\u003c/td\u003e\\n\",","       \"      \u003ctd\u003e115\u003c/td\u003e\\n\",","       \"      \u003ctd\u003e100\u003c/td\u003e\\n\",","       \"      \u003ctd\u003e100\u003c/td\u003e\\n\",","       \"    \u003c/tr\u003e\\n\",","       \"  \u003c/tbody\u003e\\n\",","       \"\u003c/table\u003e\\n\",","       \"\u003cp\u003e1000 rows × 8 columns\u003c/p\u003e\\n\",","       \"\u003c/div\u003e\"","      ],","      \"text/plain\": [","       \"     gender race/ethnicity parental level of education         lunch  \\\\\\n\",","       \"0    female        group C            some high school  free/reduced   \\n\",","       \"1    female        group B                 high school  free/reduced   \\n\",","       \"2    female        group B            some high school  free/reduced   \\n\",","       \"3    female        group B                some college      standard   \\n\",","       \"4    female        group C                some college  free/reduced   \\n\",","       \"..      ...            ...                         ...           ...   \\n\",","       \"995    male        group E                some college      standard   \\n\",","       \"996    male        group A                some college      standard   \\n\",","       \"997    male        group D                some college      standard   \\n\",","       \"998    male        group E          associate's degree  free/reduced   \\n\",","       \"999    male        group E           bachelor's degree      standard   \\n\",","       \"\\n\",","       \"    test preparation course  math score  reading score  writing score  \\n\",","       \"0                      none           0             17             10  \\n\",","       \"1                      none           8             24             23  \\n\",","       \"2                      none          18             32             28  \\n\",","       \"3                      none          11             38             32  \\n\",","       \"4                      none          22             39             33  \\n\",","       \"..                      ...         ...            ...            ...  \\n\",","       \"995               completed         114             87             81  \\n\",","       \"996               completed         115             96             86  \\n\",","       \"997               completed         115             97             99  \\n\",","       \"998               completed         115            100             93  \\n\",","       \"999               completed         115            100            100  \\n\",","       \"\\n\",","       \"[1000 rows x 8 columns]\"","      ]","     },","     \"execution_count\": 18,","     \"metadata\": {},","     \"output_type\": \"execute_result\"","    }","   ],","   \"source\": [","    \"df\"","   ]","  }"," ],"," \"metadata\": {","  \"kernelspec\": {","   \"display_name\": \"Python 3 (ipykernel)\",","   \"language\": \"python\",","   \"name\": \"python3\"","  },","  \"language_info\": {","   \"codemirror_mode\": {","    \"name\": \"ipython\",","    \"version\": 3","   },","   \"file_extension\": \".py\",","   \"mimetype\": \"text/x-python\",","   \"name\": \"python\",","   \"nbconvert_exporter\": \"python\",","   \"pygments_lexer\": \"ipython3\",","   \"version\": \"3.9.7\"","  }"," },"," \"nbformat\": 4,"," \"nbformat_minor\": 5","}"],"stylingDirectives":null,"csv":null,"csvError":null,"dependabotInfo":{"showConfigurationBanner":false,"configFilePath":null,"networkDependabotPath":"/ayeayekaizouku/Paatshala/network/updates","dismissConfigurationNoticePath":"/settings/dismiss-notice/dependabot_configuration_notice","configurationNoticeDismissed":null,"repoAlertsPath":"/ayeayekaizouku/Paatshala/security/dependabot","repoSecurityAndAnalysisPath":"/ayeayekaizouku/Paatshala/settings/security_analysis","repoOwnerIsOrg":false,"currentUserCanAdminRepo":false},"displayName":"Measures of Central Tendency and Dispersion.ipynb","displayUrl":"https://notebooks.githubusercontent.com/view/ipynb?browser=chrome\u0026bypass_fastly=true\u0026color_mode=auto\u0026commit=ab1aab567aaf405961c4a344794752c4f9db05e9\u0026device=unknown_device\u0026docs_host=https%3A%2F%2Fdocs.github.com\u0026enc_url=68747470733a2f2f7261772e67697468756275736572636f6e74656e742e636f6d2f6179656179656b61697a6f756b752f506161747368616c612f616231616162353637616166343035393631633461333434373934373532633466396462303565392f4d656173757265732532306f6625323043656e7472616c25323054656e64656e6379253230616e6425323044697370657273696f6e2e6970796e62\u0026logged_in=false\u0026nwo=ayeayekaizouku%2FPaatshala\u0026path=Measures+of+Central+Tendency+and+Dispersion.ipynb\u0026platform=windows\u0026repository_id=612865492\u0026repository_type=Repository\u0026version=114","headerInfo":{"blobSize":"82.2 KB","deleteInfo":{"deletePath":null,"deleteTooltip":"You must be signed in to make or propose changes"},"editInfo":{"editTooltip":"You must be signed in to make or propose changes"},"ghDesktopPath":"https://desktop.github.com","gitLfsPath":null,"onBranch":true,"shortPath":"3385fd0","siteNavLoginPath":"/login?return_to=https%3A%2F%2Fgithub.com%2Fayeayekaizouku%2FPaatshala%2Fblob%2Fmain%2FMeasures%2520of%2520Central%2520Tendency%2520and%2520Dispersion.ipynb","isCSV":false,"isRichtext":false,"toc":null,"lineInfo":{"truncatedLoc":"893","truncatedSloc":"893"},"mode":"file"},"image":false,"isCodeownersFile":null,"isValidLegacyIssueTemplate":false,"issueTemplateHelpUrl":"https://docs.github.com/articles/about-issue-and-pull-request-templates","issueTemplate":null,"discussionTemplate":null,"language":"Jupyter Notebook","large":false,"loggedIn":false,"newDiscussionPath":"/ayeayekaizouku/Paatshala/discussions/new","newIssuePath":"/ayeayekaizouku/Paatshala/issues/new","planSupportInfo":{"repoIsFork":null,"repoOwnedByCurrentUser":null,"requestFullPath":"/ayeayekaizouku/Paatshala/blob/main/Measures%20of%20Central%20Tendency%20and%20Dispersion.ipynb","showFreeOrgGatedFeatureMessage":null,"showPlanSupportBanner":null,"upgradeDataAttributes":null,"upgradePath":null},"publishBannersInfo":{"dismissActionNoticePath":"/settings/dismiss-notice/publish_action_from_dockerfile","dismissStackNoticePath":"/settings/dismiss-notice/publish_stack_from_file","releasePath":"/ayeayekaizouku/Paatshala/releases/new?marketplace=true","showPublishActionBanner":false,"showPublishStackBanner":false},"renderImageOrRaw":false,"richText":null,"renderedFileInfo":{"identityUUID":"559ab843-86e2-4b38-b920-7f4c261bca64","renderFileType":"ipynb","size":84187},"tabSize":8,"topBannersInfo":{"overridingGlobalFundingFile":false,"globalPreferredFundingPath":null,"repoOwner":"ayeayekaizouku","repoName":"Paatshala","showInvalidCitationWarning":false,"citationHelpUrl":"https://docs.github.com/en/github/creating-cloning-and-archiving-repositories/creating-a-repository-on-github/about-citation-files","showDependabotConfigurationBanner":false,"actionsOnboardingTip":null},"truncated":false,"viewable":true,"workflowRedirectUrl":null,"symbols":{"timedOut":false,"notAnalyzed":true,"symbols":[]}},"copilotUserAccess":null,"csrf_tokens":{"/ayeayekaizouku/Paatshala/branches":{"post":"r7kAoENL2KMd3Xw8ImHQsvVtUhqt1WrzYdn0A0ki_nP9200DGeh6HefCr0G4bURHQaUI7-6Y23tt_23k3tjq1w"}}},"title":"Paatshala/Measures of Central Tendency and Dispersion.ipynb at main · ayeayekaizouku/Paatshala","locale":"en","appPayload":{"helpUrl":"https://docs.github.com","findFileWorkerPath":"/assets-cdn/worker/find-file-worker-848bb9a5da17.js","findInFileWorkerPath":"/assets-cdn/worker/find-in-file-worker-4b57095adfc5.js","githubDevUrl":null,"enabled_features":{"virtualize_file_tree":true,"react_repos_overview":false,"code_nav_ui_events":false,"ref_selector_v2":false,"codeview_codemirror_next_editors":false,"blob_firefox_separate_characters":true,"column_symbol_auto_select":true,"copilot_conversational_ux":false,"copilot_popover_file_editor_header":false}}}</script>
  <div data-target="react-app.reactRoot"></div>
</react-app>
</turbo-frame>



  </div>

</turbo-frame>

    </main>
  </div>

  </div>

          <footer class="footer width-full container-xl p-responsive" role="contentinfo">
  <h2 class='sr-only'>Footer</h2>

  <div class="position-relative d-flex flex-items-center pb-2 f6 color-fg-muted border-top color-border-muted flex-column-reverse flex-lg-row flex-wrap flex-lg-nowrap mt-6 pt-6">
    <div class="list-style-none d-flex flex-wrap col-0 col-lg-2 flex-justify-start flex-lg-justify-between mb-2 mb-lg-0">
      <div class="mt-2 mt-lg-0 d-flex flex-items-center">
        <a aria-label="Homepage" title="GitHub" class="footer-octicon mr-2" href="https://github.com">
          <svg aria-hidden="true" height="24" viewBox="0 0 16 16" version="1.1" width="24" data-view-component="true" class="octicon octicon-mark-github">
    <path d="M8 0c4.42 0 8 3.58 8 8a8.013 8.013 0 0 1-5.45 7.59c-.4.08-.55-.17-.55-.38 0-.27.01-1.13.01-2.2 0-.75-.25-1.23-.54-1.48 1.78-.2 3.65-.88 3.65-3.95 0-.88-.31-1.59-.82-2.15.08-.2.36-1.02-.08-2.12 0 0-.67-.22-2.2.82-.64-.18-1.32-.27-2-.27-.68 0-1.36.09-2 .27-1.53-1.03-2.2-.82-2.2-.82-.44 1.1-.16 1.92-.08 2.12-.51.56-.82 1.28-.82 2.15 0 3.06 1.86 3.75 3.64 3.95-.23.2-.44.55-.51 1.07-.46.21-1.61.55-2.33-.66-.15-.24-.6-.83-1.23-.82-.67.01-.27.38.01.53.34.19.73.9.82 1.13.16.45.68 1.31 2.69.94 0 .67.01 1.3.01 1.49 0 .21-.15.45-.55.38A7.995 7.995 0 0 1 0 8c0-4.42 3.58-8 8-8Z"></path>
</svg>
</a>        <span>
        &copy; 2023 GitHub, Inc.
        </span>
      </div>
    </div>

    <nav aria-label='Footer' class="col-12 col-lg-8">
      <h3 class='sr-only' id='sr-footer-heading'>Footer navigation</h3>
      <ul class="list-style-none d-flex flex-wrap col-12 flex-justify-center flex-lg-justify-between mb-2 mb-lg-0" aria-labelledby='sr-footer-heading'>
          <li class="mr-3 mr-lg-0"><a href="https://docs.github.com/site-policy/github-terms/github-terms-of-service" data-analytics-event="{&quot;category&quot;:&quot;Footer&quot;,&quot;action&quot;:&quot;go to terms&quot;,&quot;label&quot;:&quot;text:terms&quot;}">Terms</a></li>
          <li class="mr-3 mr-lg-0"><a href="https://docs.github.com/site-policy/privacy-policies/github-privacy-statement" data-analytics-event="{&quot;category&quot;:&quot;Footer&quot;,&quot;action&quot;:&quot;go to privacy&quot;,&quot;label&quot;:&quot;text:privacy&quot;}">Privacy</a></li>
          <li class="mr-3 mr-lg-0"><a data-analytics-event="{&quot;category&quot;:&quot;Footer&quot;,&quot;action&quot;:&quot;go to security&quot;,&quot;label&quot;:&quot;text:security&quot;}" href="https://github.com/security">Security</a></li>
          <li class="mr-3 mr-lg-0"><a href="https://www.githubstatus.com/" data-analytics-event="{&quot;category&quot;:&quot;Footer&quot;,&quot;action&quot;:&quot;go to status&quot;,&quot;label&quot;:&quot;text:status&quot;}">Status</a></li>
          <li class="mr-3 mr-lg-0"><a data-ga-click="Footer, go to help, text:Docs" href="https://docs.github.com">Docs</a></li>
          <li class="mr-3 mr-lg-0"><a href="https://support.github.com?tags=dotcom-footer" data-analytics-event="{&quot;category&quot;:&quot;Footer&quot;,&quot;action&quot;:&quot;go to contact&quot;,&quot;label&quot;:&quot;text:contact&quot;}">Contact GitHub</a></li>
          <li class="mr-3 mr-lg-0"><a href="https://github.com/pricing" data-analytics-event="{&quot;category&quot;:&quot;Footer&quot;,&quot;action&quot;:&quot;go to Pricing&quot;,&quot;label&quot;:&quot;text:Pricing&quot;}">Pricing</a></li>
        <li class="mr-3 mr-lg-0"><a href="https://docs.github.com" data-analytics-event="{&quot;category&quot;:&quot;Footer&quot;,&quot;action&quot;:&quot;go to api&quot;,&quot;label&quot;:&quot;text:api&quot;}">API</a></li>
        <li class="mr-3 mr-lg-0"><a href="https://services.github.com" data-analytics-event="{&quot;category&quot;:&quot;Footer&quot;,&quot;action&quot;:&quot;go to training&quot;,&quot;label&quot;:&quot;text:training&quot;}">Training</a></li>
          <li class="mr-3 mr-lg-0"><a href="https://github.blog" data-analytics-event="{&quot;category&quot;:&quot;Footer&quot;,&quot;action&quot;:&quot;go to blog&quot;,&quot;label&quot;:&quot;text:blog&quot;}">Blog</a></li>
          <li><a data-ga-click="Footer, go to about, text:about" href="https://github.com/about">About</a></li>
      </ul>
    </nav>
  </div>

  <div class="d-flex flex-justify-center pb-6">
    <span class="f6 color-fg-muted"></span>
  </div>
</footer>




  <div id="ajax-error-message" class="ajax-error-message flash flash-error" hidden>
    <svg aria-hidden="true" height="16" viewBox="0 0 16 16" version="1.1" width="16" data-view-component="true" class="octicon octicon-alert">
    <path d="M6.457 1.047c.659-1.234 2.427-1.234 3.086 0l6.082 11.378A1.75 1.75 0 0 1 14.082 15H1.918a1.75 1.75 0 0 1-1.543-2.575Zm1.763.707a.25.25 0 0 0-.44 0L1.698 13.132a.25.25 0 0 0 .22.368h12.164a.25.25 0 0 0 .22-.368Zm.53 3.996v2.5a.75.75 0 0 1-1.5 0v-2.5a.75.75 0 0 1 1.5 0ZM9 11a1 1 0 1 1-2 0 1 1 0 0 1 2 0Z"></path>
</svg>
    <button type="button" class="flash-close js-ajax-error-dismiss" aria-label="Dismiss error">
      <svg aria-hidden="true" height="16" viewBox="0 0 16 16" version="1.1" width="16" data-view-component="true" class="octicon octicon-x">
    <path d="M3.72 3.72a.75.75 0 0 1 1.06 0L8 6.94l3.22-3.22a.749.749 0 0 1 1.275.326.749.749 0 0 1-.215.734L9.06 8l3.22 3.22a.749.749 0 0 1-.326 1.275.749.749 0 0 1-.734-.215L8 9.06l-3.22 3.22a.751.751 0 0 1-1.042-.018.751.751 0 0 1-.018-1.042L6.94 8 3.72 4.78a.75.75 0 0 1 0-1.06Z"></path>
</svg>
    </button>
    You can’t perform that action at this time.
  </div>

    <template id="site-details-dialog">
  <details class="details-reset details-overlay details-overlay-dark lh-default color-fg-default hx_rsm" open>
    <summary role="button" aria-label="Close dialog"></summary>
    <details-dialog class="Box Box--overlay d-flex flex-column anim-fade-in fast hx_rsm-dialog hx_rsm-modal">
      <button class="Box-btn-octicon m-0 btn-octicon position-absolute right-0 top-0" type="button" aria-label="Close dialog" data-close-dialog>
        <svg aria-hidden="true" height="16" viewBox="0 0 16 16" version="1.1" width="16" data-view-component="true" class="octicon octicon-x">
    <path d="M3.72 3.72a.75.75 0 0 1 1.06 0L8 6.94l3.22-3.22a.749.749 0 0 1 1.275.326.749.749 0 0 1-.215.734L9.06 8l3.22 3.22a.749.749 0 0 1-.326 1.275.749.749 0 0 1-.734-.215L8 9.06l-3.22 3.22a.751.751 0 0 1-1.042-.018.751.751 0 0 1-.018-1.042L6.94 8 3.72 4.78a.75.75 0 0 1 0-1.06Z"></path>
</svg>
      </button>
      <div class="octocat-spinner my-6 js-details-dialog-spinner"></div>
    </details-dialog>
  </details>
</template>

    <div class="Popover js-hovercard-content position-absolute" style="display: none; outline: none;" tabindex="0">
  <div class="Popover-message Popover-message--bottom-left Popover-message--large Box color-shadow-large" style="width:360px;">
  </div>
</div>

    <template id="snippet-clipboard-copy-button">
  <div class="zeroclipboard-container position-absolute right-0 top-0">
    <clipboard-copy aria-label="Copy" class="ClipboardButton btn js-clipboard-copy m-2 p-0 tooltipped-no-delay" data-copy-feedback="Copied!" data-tooltip-direction="w">
      <svg aria-hidden="true" height="16" viewBox="0 0 16 16" version="1.1" width="16" data-view-component="true" class="octicon octicon-copy js-clipboard-copy-icon m-2">
    <path d="M0 6.75C0 5.784.784 5 1.75 5h1.5a.75.75 0 0 1 0 1.5h-1.5a.25.25 0 0 0-.25.25v7.5c0 .138.112.25.25.25h7.5a.25.25 0 0 0 .25-.25v-1.5a.75.75 0 0 1 1.5 0v1.5A1.75 1.75 0 0 1 9.25 16h-7.5A1.75 1.75 0 0 1 0 14.25Z"></path><path d="M5 1.75C5 .784 5.784 0 6.75 0h7.5C15.216 0 16 .784 16 1.75v7.5A1.75 1.75 0 0 1 14.25 11h-7.5A1.75 1.75 0 0 1 5 9.25Zm1.75-.25a.25.25 0 0 0-.25.25v7.5c0 .138.112.25.25.25h7.5a.25.25 0 0 0 .25-.25v-7.5a.25.25 0 0 0-.25-.25Z"></path>
</svg>
      <svg aria-hidden="true" height="16" viewBox="0 0 16 16" version="1.1" width="16" data-view-component="true" class="octicon octicon-check js-clipboard-check-icon color-fg-success d-none m-2">
    <path d="M13.78 4.22a.75.75 0 0 1 0 1.06l-7.25 7.25a.75.75 0 0 1-1.06 0L2.22 9.28a.751.751 0 0 1 .018-1.042.751.751 0 0 1 1.042-.018L6 10.94l6.72-6.72a.75.75 0 0 1 1.06 0Z"></path>
</svg>
    </clipboard-copy>
  </div>
</template>
<template id="snippet-clipboard-copy-button-unpositioned">
  <div class="zeroclipboard-container">
    <clipboard-copy aria-label="Copy" class="ClipboardButton btn btn-invisible js-clipboard-copy m-2 p-0 tooltipped-no-delay d-flex flex-justify-center flex-items-center" data-copy-feedback="Copied!" data-tooltip-direction="w">
      <svg aria-hidden="true" height="16" viewBox="0 0 16 16" version="1.1" width="16" data-view-component="true" class="octicon octicon-copy js-clipboard-copy-icon">
    <path d="M0 6.75C0 5.784.784 5 1.75 5h1.5a.75.75 0 0 1 0 1.5h-1.5a.25.25 0 0 0-.25.25v7.5c0 .138.112.25.25.25h7.5a.25.25 0 0 0 .25-.25v-1.5a.75.75 0 0 1 1.5 0v1.5A1.75 1.75 0 0 1 9.25 16h-7.5A1.75 1.75 0 0 1 0 14.25Z"></path><path d="M5 1.75C5 .784 5.784 0 6.75 0h7.5C15.216 0 16 .784 16 1.75v7.5A1.75 1.75 0 0 1 14.25 11h-7.5A1.75 1.75 0 0 1 5 9.25Zm1.75-.25a.25.25 0 0 0-.25.25v7.5c0 .138.112.25.25.25h7.5a.25.25 0 0 0 .25-.25v-7.5a.25.25 0 0 0-.25-.25Z"></path>
</svg>
      <svg aria-hidden="true" height="16" viewBox="0 0 16 16" version="1.1" width="16" data-view-component="true" class="octicon octicon-check js-clipboard-check-icon color-fg-success d-none">
    <path d="M13.78 4.22a.75.75 0 0 1 0 1.06l-7.25 7.25a.75.75 0 0 1-1.06 0L2.22 9.28a.751.751 0 0 1 .018-1.042.751.751 0 0 1 1.042-.018L6 10.94l6.72-6.72a.75.75 0 0 1 1.06 0Z"></path>
</svg>
    </clipboard-copy>
  </div>
</template>




    </div>

    <div id="js-global-screen-reader-notice" class="sr-only" aria-live="polite" ></div>
  </body>
</html>



